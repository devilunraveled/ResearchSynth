{
 "cells": [
  {
   "cell_type": "code",
   "execution_count": 10,
   "metadata": {},
   "outputs": [
    {
     "ename": "AttributeError",
     "evalue": "partially initialized module 'pandas' has no attribute 'core' (most likely due to a circular import)",
     "output_type": "error",
     "traceback": [
      "\u001b[0;31m---------------------------------------------------------------------------\u001b[0m",
      "\u001b[0;31mAttributeError\u001b[0m                            Traceback (most recent call last)",
      "\u001b[1;32m/home/ashmitchamoli/Desktop/Projects/IRE_Project/ResearchSynth/MatchSum/MatchSumEvaluation_with_sim_model.ipynb Cell 1\u001b[0m line \u001b[0;36m6\n\u001b[1;32m      <a href='vscode-notebook-cell:/home/ashmitchamoli/Desktop/Projects/IRE_Project/ResearchSynth/MatchSum/MatchSumEvaluation_with_sim_model.ipynb#W0sZmlsZQ%3D%3D?line=3'>4</a>\u001b[0m \u001b[39mimport\u001b[39;00m \u001b[39msys\u001b[39;00m\n\u001b[1;32m      <a href='vscode-notebook-cell:/home/ashmitchamoli/Desktop/Projects/IRE_Project/ResearchSynth/MatchSum/MatchSumEvaluation_with_sim_model.ipynb#W0sZmlsZQ%3D%3D?line=4'>5</a>\u001b[0m sys\u001b[39m.\u001b[39mpath\u001b[39m.\u001b[39mappend(\u001b[39m'\u001b[39m\u001b[39m..\u001b[39m\u001b[39m'\u001b[39m)\n\u001b[0;32m----> <a href='vscode-notebook-cell:/home/ashmitchamoli/Desktop/Projects/IRE_Project/ResearchSynth/MatchSum/MatchSumEvaluation_with_sim_model.ipynb#W0sZmlsZQ%3D%3D?line=5'>6</a>\u001b[0m \u001b[39mfrom\u001b[39;00m \u001b[39mDatasets\u001b[39;00m\u001b[39m.\u001b[39;00m\u001b[39mDataLoader\u001b[39;00m \u001b[39mimport\u001b[39;00m DataLoader\n\u001b[1;32m      <a href='vscode-notebook-cell:/home/ashmitchamoli/Desktop/Projects/IRE_Project/ResearchSynth/MatchSum/MatchSumEvaluation_with_sim_model.ipynb#W0sZmlsZQ%3D%3D?line=7'>8</a>\u001b[0m \u001b[39m# loading the datasets\u001b[39;00m\n\u001b[1;32m      <a href='vscode-notebook-cell:/home/ashmitchamoli/Desktop/Projects/IRE_Project/ResearchSynth/MatchSum/MatchSumEvaluation_with_sim_model.ipynb#W0sZmlsZQ%3D%3D?line=8'>9</a>\u001b[0m datasetLoader \u001b[39m=\u001b[39m DataLoader(datasetName\u001b[39m=\u001b[39m\u001b[39m'\u001b[39m\u001b[39marxiv\u001b[39m\u001b[39m'\u001b[39m)\n",
      "File \u001b[0;32m~/Desktop/Projects/IRE_Project/ResearchSynth/MatchSum/../Datasets/DataLoader.py:1\u001b[0m\n\u001b[0;32m----> 1\u001b[0m \u001b[39mimport\u001b[39;00m \u001b[39mpandas\u001b[39;00m \u001b[39mas\u001b[39;00m \u001b[39mpd\u001b[39;00m\n\u001b[1;32m      2\u001b[0m \u001b[39mimport\u001b[39;00m \u001b[39mos\u001b[39;00m\n\u001b[1;32m      4\u001b[0m \u001b[39mclass\u001b[39;00m \u001b[39mDataLoader\u001b[39;00m:\n",
      "File \u001b[0;32m~/.local/lib/python3.11/site-packages/pandas/__init__.py:138\u001b[0m\n\u001b[1;32m    120\u001b[0m \u001b[39mfrom\u001b[39;00m \u001b[39mpandas\u001b[39;00m\u001b[39m.\u001b[39;00m\u001b[39mcore\u001b[39;00m\u001b[39m.\u001b[39;00m\u001b[39mreshape\u001b[39;00m\u001b[39m.\u001b[39;00m\u001b[39mapi\u001b[39;00m \u001b[39mimport\u001b[39;00m (\n\u001b[1;32m    121\u001b[0m     concat,\n\u001b[1;32m    122\u001b[0m     lreshape,\n\u001b[0;32m   (...)\u001b[0m\n\u001b[1;32m    134\u001b[0m     qcut,\n\u001b[1;32m    135\u001b[0m )\n\u001b[1;32m    137\u001b[0m \u001b[39mfrom\u001b[39;00m \u001b[39mpandas\u001b[39;00m \u001b[39mimport\u001b[39;00m api, arrays, errors, io, plotting, tseries\n\u001b[0;32m--> 138\u001b[0m \u001b[39mfrom\u001b[39;00m \u001b[39mpandas\u001b[39;00m \u001b[39mimport\u001b[39;00m testing\n\u001b[1;32m    139\u001b[0m \u001b[39mfrom\u001b[39;00m \u001b[39mpandas\u001b[39;00m\u001b[39m.\u001b[39;00m\u001b[39mutil\u001b[39;00m\u001b[39m.\u001b[39;00m\u001b[39m_print_versions\u001b[39;00m \u001b[39mimport\u001b[39;00m show_versions\n\u001b[1;32m    141\u001b[0m \u001b[39mfrom\u001b[39;00m \u001b[39mpandas\u001b[39;00m\u001b[39m.\u001b[39;00m\u001b[39mio\u001b[39;00m\u001b[39m.\u001b[39;00m\u001b[39mapi\u001b[39;00m \u001b[39mimport\u001b[39;00m (\n\u001b[1;32m    142\u001b[0m     \u001b[39m# excel\u001b[39;00m\n\u001b[1;32m    143\u001b[0m     ExcelFile,\n\u001b[0;32m   (...)\u001b[0m\n\u001b[1;32m    171\u001b[0m     read_spss,\n\u001b[1;32m    172\u001b[0m )\n",
      "File \u001b[0;32m~/.local/lib/python3.11/site-packages/pandas/testing.py:6\u001b[0m\n\u001b[1;32m      1\u001b[0m \u001b[39m\"\"\"\u001b[39;00m\n\u001b[1;32m      2\u001b[0m \u001b[39mPublic testing utility functions.\u001b[39;00m\n\u001b[1;32m      3\u001b[0m \u001b[39m\"\"\"\u001b[39;00m\n\u001b[0;32m----> 6\u001b[0m \u001b[39mfrom\u001b[39;00m \u001b[39mpandas\u001b[39;00m\u001b[39m.\u001b[39;00m\u001b[39m_testing\u001b[39;00m \u001b[39mimport\u001b[39;00m (\n\u001b[1;32m      7\u001b[0m     assert_extension_array_equal,\n\u001b[1;32m      8\u001b[0m     assert_frame_equal,\n\u001b[1;32m      9\u001b[0m     assert_index_equal,\n\u001b[1;32m     10\u001b[0m     assert_series_equal,\n\u001b[1;32m     11\u001b[0m )\n\u001b[1;32m     13\u001b[0m __all__ \u001b[39m=\u001b[39m [\n\u001b[1;32m     14\u001b[0m     \u001b[39m\"\u001b[39m\u001b[39massert_extension_array_equal\u001b[39m\u001b[39m\"\u001b[39m,\n\u001b[1;32m     15\u001b[0m     \u001b[39m\"\u001b[39m\u001b[39massert_frame_equal\u001b[39m\u001b[39m\"\u001b[39m,\n\u001b[1;32m     16\u001b[0m     \u001b[39m\"\u001b[39m\u001b[39massert_series_equal\u001b[39m\u001b[39m\"\u001b[39m,\n\u001b[1;32m     17\u001b[0m     \u001b[39m\"\u001b[39m\u001b[39massert_index_equal\u001b[39m\u001b[39m\"\u001b[39m,\n\u001b[1;32m     18\u001b[0m ]\n",
      "File \u001b[0;32m~/.local/lib/python3.11/site-packages/pandas/_testing/__init__.py:914\u001b[0m\n\u001b[1;32m    909\u001b[0m     \u001b[39mimport\u001b[39;00m \u001b[39mpytest\u001b[39;00m\n\u001b[1;32m    911\u001b[0m     \u001b[39mreturn\u001b[39;00m pytest\u001b[39m.\u001b[39mraises(expected_exception, match\u001b[39m=\u001b[39m\u001b[39mNone\u001b[39;00m)\n\u001b[0;32m--> 914\u001b[0m cython_table \u001b[39m=\u001b[39m pd\u001b[39m.\u001b[39;49mcore\u001b[39m.\u001b[39mcommon\u001b[39m.\u001b[39m_cython_table\u001b[39m.\u001b[39mitems()\n\u001b[1;32m    917\u001b[0m \u001b[39mdef\u001b[39;00m \u001b[39mget_cython_table_params\u001b[39m(ndframe, func_names_and_expected):\n\u001b[1;32m    918\u001b[0m \u001b[39m    \u001b[39m\u001b[39m\"\"\"\u001b[39;00m\n\u001b[1;32m    919\u001b[0m \u001b[39m    Combine frame, functions from com._cython_table\u001b[39;00m\n\u001b[1;32m    920\u001b[0m \u001b[39m    keys and expected result.\u001b[39;00m\n\u001b[0;32m   (...)\u001b[0m\n\u001b[1;32m    932\u001b[0m \u001b[39m        List of three items (DataFrame, function, expected result)\u001b[39;00m\n\u001b[1;32m    933\u001b[0m \u001b[39m    \"\"\"\u001b[39;00m\n",
      "\u001b[0;31mAttributeError\u001b[0m: partially initialized module 'pandas' has no attribute 'core' (most likely due to a circular import)"
     ]
    }
   ],
   "source": [
    "import time\n",
    "import numpy as np\n",
    "from MatchSummarizer import MatchSummarizer\n",
    "import sys\n",
    "sys.path.append('..')\n",
    "from Datasets.DataLoader import DataLoader\n",
    "\n",
    "# loading the datasets\n",
    "datasetLoader = DataLoader(datasetName='arxiv')\n",
    "\n",
    "arxiv_test = datasetLoader.getData('../Datasets/', split='test')\n",
    "datasetLoader.datasetName = 'pubmed'\n",
    "pubmed_test = datasetLoader.getData('../Datasets/', split='test')\n",
    "\n",
    "# pick only the first 1000 rows from the dataframes\n",
    "arxiv_test = arxiv_test[:100]\n",
    "pubmed_test = pubmed_test[:100]\n",
    "\n",
    "# creating 'Gold Summary' column\n",
    "def mapping(row):\n",
    "    row['Gold Summary'] = ''.join(row['abstract_text'])\n",
    "    return row\n",
    "\n",
    "arxiv_test = arxiv_test.apply(mapping, axis=1)\n",
    "pubmed_test = pubmed_test.apply(mapping, axis=1)"
   ]
  },
  {
   "cell_type": "code",
   "execution_count": null,
   "metadata": {},
   "outputs": [
    {
     "name": "stderr",
     "output_type": "stream",
     "text": [
      "/home/ashmitchamoli/.local/lib/python3.11/site-packages/tqdm/auto.py:21: TqdmWarning: IProgress not found. Please update jupyter and ipywidgets. See https://ipywidgets.readthedocs.io/en/stable/user_install.html\n",
      "  from .autonotebook import tqdm as notebook_tqdm\n"
     ]
    },
    {
     "name": "stdout",
     "output_type": "stream",
     "text": [
      "Unexpected exception formatting exception. Falling back to standard exception\n"
     ]
    },
    {
     "name": "stderr",
     "output_type": "stream",
     "text": [
      "Traceback (most recent call last):\n",
      "  File \"/home/ashmitchamoli/.local/lib/python3.11/site-packages/IPython/core/interactiveshell.py\", line 3460, in run_code\n",
      "    exec(code_obj, self.user_global_ns, self.user_ns)\n",
      "  File \"/tmp/ipykernel_54071/4085808849.py\", line 18, in <module>\n",
      "    arxiv_test = arxiv_test.apply(generateSummary, axis=1)\n",
      "                 ^^^^^^^^^^^^^^^^^^^^^^^^^^^^^^^^^^^^^^^^^\n",
      "  File \"/home/ashmitchamoli/.local/lib/python3.11/site-packages/pandas/core/frame.py\", line 9433, in apply\n",
      "    return op.apply().__finalize__(self, method=\"apply\")\n",
      "           ^^^^^^^^^^\n",
      "  File \"/home/ashmitchamoli/.local/lib/python3.11/site-packages/pandas/core/apply.py\", line 678, in apply\n",
      "    return self.apply_standard()\n",
      "           ^^^^^^^^^^^^^^^^^^^^^\n",
      "  File \"/home/ashmitchamoli/.local/lib/python3.11/site-packages/pandas/core/apply.py\", line 798, in apply_standard\n",
      "    results, res_index = self.apply_series_generator()\n",
      "                         ^^^^^^^^^^^^^^^^^^^^^^^^^^^^^\n",
      "  File \"/home/ashmitchamoli/.local/lib/python3.11/site-packages/pandas/core/apply.py\", line 814, in apply_series_generator\n",
      "    results[i] = self.f(v)\n",
      "                 ^^^^^^^^^\n",
      "  File \"/tmp/ipykernel_54071/4085808849.py\", line 11, in generateSummary\n",
      "    summarizer = MatchSummarizer(article, n_gram_size, model)\n",
      "                 ^^^^^^^^^^^^^^^^^^^^^^^^^^^^^^^^^^^^^^^^^^^^\n",
      "  File \"/home/ashmitchamoli/Desktop/Projects/IRE_Project/ResearchSynth/MatchSum/MatchSummarizer.py\", line 30, in __init__\n",
      "    embeddings1 = self.model.encode([gram[0], paper], normalize_embeddings=True)\n",
      "                  ^^^^^^^^^^^^^^^^^^^^^^^^^^^^^^^^^^^^^^^^^^^^^^^^^^^^^^^^^^^^^^\n",
      "  File \"/home/ashmitchamoli/.local/lib/python3.11/site-packages/sentence_transformers/SentenceTransformer.py\", line 153, in encode\n",
      "    self.to(device)\n",
      "  File \"/home/ashmitchamoli/.local/lib/python3.11/site-packages/torch/nn/modules/module.py\", line 1160, in to\n",
      "    return self._apply(convert)\n",
      "           ^^^^^^^^^^^^^^^^^^^^\n",
      "  File \"/home/ashmitchamoli/.local/lib/python3.11/site-packages/torch/nn/modules/module.py\", line 810, in _apply\n",
      "    module._apply(fn)\n",
      "  File \"/home/ashmitchamoli/.local/lib/python3.11/site-packages/torch/nn/modules/module.py\", line 810, in _apply\n",
      "    module._apply(fn)\n",
      "  File \"/home/ashmitchamoli/.local/lib/python3.11/site-packages/torch/nn/modules/module.py\", line 810, in _apply\n",
      "    module._apply(fn)\n",
      "  [Previous line repeated 5 more times]\n",
      "  File \"/home/ashmitchamoli/.local/lib/python3.11/site-packages/torch/nn/modules/module.py\", line -1, in _apply\n",
      "KeyboardInterrupt\n",
      "\n",
      "During handling of the above exception, another exception occurred:\n",
      "\n",
      "Traceback (most recent call last):\n",
      "  File \"/home/ashmitchamoli/.local/lib/python3.11/site-packages/IPython/core/interactiveshell.py\", line 2057, in showtraceback\n",
      "    stb = self.InteractiveTB.structured_traceback(\n",
      "          ^^^^^^^^^^^^^^^^^^^^^^^^^^^^^^^^^^^^^^^^\n",
      "  File \"/home/ashmitchamoli/.local/lib/python3.11/site-packages/IPython/core/ultratb.py\", line 1118, in structured_traceback\n",
      "    return FormattedTB.structured_traceback(\n",
      "           ^^^^^^^^^^^^^^^^^^^^^^^^^^^^^^^^^\n",
      "  File \"/home/ashmitchamoli/.local/lib/python3.11/site-packages/IPython/core/ultratb.py\", line 1012, in structured_traceback\n",
      "    return VerboseTB.structured_traceback(\n",
      "           ^^^^^^^^^^^^^^^^^^^^^^^^^^^^^^^\n",
      "  File \"/home/ashmitchamoli/.local/lib/python3.11/site-packages/IPython/core/ultratb.py\", line 865, in structured_traceback\n",
      "    formatted_exception = self.format_exception_as_a_whole(etype, evalue, etb, number_of_lines_of_context,\n",
      "                          ^^^^^^^^^^^^^^^^^^^^^^^^^^^^^^^^^^^^^^^^^^^^^^^^^^^^^^^^^^^^^^^^^^^^^^^^^^^^^^^^\n",
      "  File \"/home/ashmitchamoli/.local/lib/python3.11/site-packages/IPython/core/ultratb.py\", line 818, in format_exception_as_a_whole\n",
      "    frames.append(self.format_record(r))\n",
      "                  ^^^^^^^^^^^^^^^^^^^^^\n",
      "  File \"/home/ashmitchamoli/.local/lib/python3.11/site-packages/IPython/core/ultratb.py\", line 736, in format_record\n",
      "    result += ''.join(_format_traceback_lines(frame_info.lines, Colors, self.has_colors, lvals))\n",
      "                                              ^^^^^^^^^^^^^^^^\n",
      "  File \"/home/ashmitchamoli/.local/lib/python3.11/site-packages/stack_data/utils.py\", line 144, in cached_property_wrapper\n",
      "    value = obj.__dict__[self.func.__name__] = self.func(obj)\n",
      "                                               ^^^^^^^^^^^^^^\n",
      "  File \"/home/ashmitchamoli/.local/lib/python3.11/site-packages/stack_data/core.py\", line 734, in lines\n",
      "    pieces = self.included_pieces\n",
      "             ^^^^^^^^^^^^^^^^^^^^\n",
      "  File \"/home/ashmitchamoli/.local/lib/python3.11/site-packages/stack_data/utils.py\", line 144, in cached_property_wrapper\n",
      "    value = obj.__dict__[self.func.__name__] = self.func(obj)\n",
      "                                               ^^^^^^^^^^^^^^\n",
      "  File \"/home/ashmitchamoli/.local/lib/python3.11/site-packages/stack_data/core.py\", line 681, in included_pieces\n",
      "    pos = scope_pieces.index(self.executing_piece)\n",
      "                             ^^^^^^^^^^^^^^^^^^^^\n",
      "  File \"/home/ashmitchamoli/.local/lib/python3.11/site-packages/stack_data/utils.py\", line 144, in cached_property_wrapper\n",
      "    value = obj.__dict__[self.func.__name__] = self.func(obj)\n",
      "                                               ^^^^^^^^^^^^^^\n",
      "  File \"/home/ashmitchamoli/.local/lib/python3.11/site-packages/stack_data/core.py\", line 660, in executing_piece\n",
      "    return only(\n",
      "           ^^^^^\n",
      "  File \"/home/ashmitchamoli/.local/lib/python3.11/site-packages/executing/executing.py\", line 190, in only\n",
      "    raise NotOneValueFound('Expected one value, found 0')\n",
      "executing.executing.NotOneValueFound: Expected one value, found 0\n"
     ]
    }
   ],
   "source": [
    "# loading the model\n",
    "from sentence_transformers import SentenceTransformer\n",
    "model = SentenceTransformer('sentence-transformers/all-mpnet-base-v2')\n",
    "model2 = SentenceTransformer('ArtifactAI/arxiv-distilbert-base-v3-GenQ')\n",
    "n_gram_size = 3\n",
    "summary_size = 10\n",
    "\n",
    "# generating summaries\n",
    "def generateSummary(row):\n",
    "    article = ''.join(row['article_text'])\n",
    "    summarizer = MatchSummarizer(article, n_gram_size, model)\n",
    "    summary = summarizer.generateSummary(summary_size)\n",
    "    row['Generated Summary'] = summary\n",
    "    print(f\"Generated summary for {row['article_id']}.\")\n",
    "    return row\n",
    "\n",
    "start_time = time.process_time()\n",
    "arxiv_test = arxiv_test.apply(generateSummary, axis=1)\n",
    "print('Time taken for arxiv: ', (time.process_time() - start_time)/60, 'minutes.')\n",
    "\n",
    "# start_time = time.process_time()\n",
    "# pubmed_test = pubmed_test.apply(generateSummary, axis=1)\n",
    "# print('Time taken for pubmed: ', (time.process_time() - start_time)/60, 'minutes.')"
   ]
  },
  {
   "cell_type": "code",
   "execution_count": null,
   "metadata": {},
   "outputs": [
    {
     "ename": "ModuleNotFoundError",
     "evalue": "No module named 'Evaluation'",
     "output_type": "error",
     "traceback": [
      "\u001b[0;31m---------------------------------------------------------------------------\u001b[0m",
      "\u001b[0;31mModuleNotFoundError\u001b[0m                       Traceback (most recent call last)",
      "\u001b[1;32m/home/ashmitchamoli/Desktop/Projects/IRE_Project/ResearchSynth/MatchSum/MatchSumEvaluation.ipynb Cell 3\u001b[0m line \u001b[0;36m2\n\u001b[1;32m      <a href='vscode-notebook-cell:/home/ashmitchamoli/Desktop/Projects/IRE_Project/ResearchSynth/MatchSum/MatchSumEvaluation.ipynb#W2sZmlsZQ%3D%3D?line=0'>1</a>\u001b[0m \u001b[39m# evaluating the summaries\u001b[39;00m\n\u001b[0;32m----> <a href='vscode-notebook-cell:/home/ashmitchamoli/Desktop/Projects/IRE_Project/ResearchSynth/MatchSum/MatchSumEvaluation.ipynb#W2sZmlsZQ%3D%3D?line=1'>2</a>\u001b[0m \u001b[39mimport\u001b[39;00m \u001b[39mEvaluation\u001b[39;00m\u001b[39m.\u001b[39;00m\u001b[39mevaluation\u001b[39;00m \u001b[39mas\u001b[39;00m \u001b[39mevaluation\u001b[39;00m\n\u001b[1;32m      <a href='vscode-notebook-cell:/home/ashmitchamoli/Desktop/Projects/IRE_Project/ResearchSynth/MatchSum/MatchSumEvaluation.ipynb#W2sZmlsZQ%3D%3D?line=2'>3</a>\u001b[0m \u001b[39mimport\u001b[39;00m \u001b[39mimportlib\u001b[39;00m\n\u001b[1;32m      <a href='vscode-notebook-cell:/home/ashmitchamoli/Desktop/Projects/IRE_Project/ResearchSynth/MatchSum/MatchSumEvaluation.ipynb#W2sZmlsZQ%3D%3D?line=3'>4</a>\u001b[0m importlib\u001b[39m.\u001b[39mreload(evaluation)\n",
      "\u001b[0;31mModuleNotFoundError\u001b[0m: No module named 'Evaluation'"
     ]
    }
   ],
   "source": [
    "# evaluating the summaries\n",
    "import Evaluation.evaluation as evaluation\n",
    "import importlib\n",
    "importlib.reload(evaluation)\n",
    "\n",
    "rougeScores = evaluation.rougeScores\n",
    "arxiv_test, rougeScoresArxiv = rougeScores(arxiv_test)\n",
    "# pubmed_test, rougeScoresPubmed = rougeScores(pubmed_test)\n",
    "\n",
    "# printing the results\n",
    "print('arxiv')\n",
    "print('rouge1: ', np.mean([ score.fmeasure for score in rougeScoresArxiv['rouge1'] ]))\n",
    "print('rouge2: ', np.mean([ score.fmeasure for score in rougeScoresArxiv['rouge2'] ]))\n",
    "print('rougeL: ', np.mean([ score.fmeasure for score in rougeScoresArxiv['rougeL'] ]))\n",
    "# print('pubmed')\n",
    "# print('rouge1: ', np.mean([ score.fmeasure for score in rougeScoresPubmed['rouge1'] ]))\n",
    "# print('rouge2: ', np.mean([ score.fmeasure for score in rougeScoresPubmed['rouge2'] ]))\n",
    "# print('rougeL: ', np.mean([ score.fmeasure for score in rougeScoresPubmed['rougeL'] ]))\n",
    "\n",
    "# saving the results\n",
    "arxiv_test.to_csv('arxiv_test_matchSum.csv')\n",
    "# pubmed_test.to_csv('pubmed_test_matchSum.csv')"
   ]
  }
 ],
 "metadata": {
  "kernelspec": {
   "display_name": "Python 3",
   "language": "python",
   "name": "python3"
  },
  "language_info": {
   "codemirror_mode": {
    "name": "ipython",
    "version": 3
   },
   "file_extension": ".py",
   "mimetype": "text/x-python",
   "name": "python",
   "nbconvert_exporter": "python",
   "pygments_lexer": "ipython3",
   "version": "3.11.6"
  }
 },
 "nbformat": 4,
 "nbformat_minor": 2
}
