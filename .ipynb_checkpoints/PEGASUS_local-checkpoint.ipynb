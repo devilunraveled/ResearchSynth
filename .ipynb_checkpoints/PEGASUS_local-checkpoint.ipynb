{
 "cells": [
  {
   "cell_type": "markdown",
   "id": "29232896",
   "metadata": {},
   "source": [
    "## PEGASUS Local"
   ]
  },
  {
   "cell_type": "code",
   "execution_count": 8,
   "id": "7be9b778",
   "metadata": {},
   "outputs": [],
   "source": [
    "import torch\n",
    "from parser.parser import Parser\n",
    "from transformers import PegasusForConditionalGeneration, PegasusTokenizer\n",
    "\n",
    "model_name = 'tuner007/pegasus_summarizer'\n",
    "torch_device = 'cuda' if torch.cuda.is_available() else 'cpu'"
   ]
  },
  {
   "cell_type": "markdown",
   "id": "8f85c649",
   "metadata": {},
   "source": [
    "### Getting the token and downloading the model"
   ]
  },
  {
   "cell_type": "code",
   "execution_count": 9,
   "id": "e1da5349",
   "metadata": {},
   "outputs": [],
   "source": [
    "tokenizer = PegasusTokenizer.from_pretrained(model_name)\n",
    "model = PegasusForConditionalGeneration.from_pretrained(model_name).to(torch_device)"
   ]
  },
  {
   "cell_type": "markdown",
   "id": "beca4fa1",
   "metadata": {},
   "source": [
    "### Getting response"
   ]
  },
  {
   "cell_type": "code",
   "execution_count": 10,
   "id": "eb5418ba",
   "metadata": {},
   "outputs": [],
   "source": [
    "def get_response(input_text):\n",
    "  batch = tokenizer([input_text],truncation=True,padding='longest',max_length=1024, return_tensors=\"pt\").to(torch_device)\n",
    "  gen_out = model.generate(**batch,max_length=128,num_beams=5, num_return_sequences=1, do_sample = True, temperature=1.5)\n",
    "  output_text = tokenizer.batch_decode(gen_out, skip_special_tokens=True)\n",
    "  return output_text\n"
   ]
  },
  {
   "cell_type": "markdown",
   "id": "99cb754f",
   "metadata": {},
   "source": [
    "### Getting the code"
   ]
  },
  {
   "cell_type": "code",
   "execution_count": 11,
   "id": "cc1ec634",
   "metadata": {},
   "outputs": [
    {
     "name": "stdout",
     "output_type": "stream",
     "text": [
      "[\"We use deep convolutional neural networks (CNNs) to learn a galaxy's optical morphology and estimate its neutral atomic hydrogen (H I) content from SDSS griimage cutouts. We are able to accurately predict a galaxy's logarithmic H Imass fraction,M log(MHI=M?) by training a CNN on galaxies in the ALFALFA (2004) sample. We test CNN predictions on the ALFALFA 100%, xGASS, and NIBLES catalogs, and find that the CNN consistently outperforms previous estimators.\"]\n"
     ]
    }
   ],
   "source": [
    "paperName = \"pegasus\"\n",
    "\n",
    "content = Parser(pdfFile = \"./papers/\" + paperName +\".pdf\")\n",
    "\n",
    "print(get_response(content))"
   ]
  }
 ],
 "metadata": {
  "kernelspec": {
   "display_name": "Python 3 (ipykernel)",
   "language": "python",
   "name": "python3"
  },
  "language_info": {
   "codemirror_mode": {
    "name": "ipython",
    "version": 3
   },
   "file_extension": ".py",
   "mimetype": "text/x-python",
   "name": "python",
   "nbconvert_exporter": "python",
   "pygments_lexer": "ipython3",
   "version": "3.10.10"
  }
 },
 "nbformat": 4,
 "nbformat_minor": 5
}
