{
 "cells": [
  {
   "cell_type": "markdown",
   "id": "a1ba4bc2",
   "metadata": {},
   "source": [
    "## PEGASUS Local"
   ]
  },
  {
   "cell_type": "code",
   "execution_count": 3,
   "id": "5216eacd",
   "metadata": {},
   "outputs": [],
   "source": [
    "import torch\n",
    "from parser.parser import Parser\n",
    "from transformers import PegasusForConditionalGeneration, PegasusTokenizer"
   ]
  },
  {
   "cell_type": "code",
   "execution_count": 5,
   "id": "bdc347b2",
   "metadata": {},
   "outputs": [],
   "source": [
    "model_name = 'tuner007/pegasus_summarizer'\n",
    "#torch_device = 'cuda' if torch.cuda.is_available() else 'cpu'\n",
    "torch_device = 'cpu'\n",
    "tokenizer = PegasusTokenizer.from_pretrained(model_name)\n",
    "model = PegasusForConditionalGeneration.from_pretrained(model_name).to(torch_device)\n"
   ]
  },
  {
   "cell_type": "code",
   "execution_count": 8,
   "id": "569ebceb",
   "metadata": {},
   "outputs": [],
   "source": [
    "def get_response(input_text):\n",
    "  batch = tokenizer([input_text],truncation=True,padding='longest',max_length=1024, return_tensors=\"pt\").to(torch_device)\n",
    "  gen_out = model.generate(**batch,max_length=128,num_beams=5, num_return_sequences=1, do_sample = True, temperature=1.5)\n",
    "  output_text = tokenizer.batch_decode(gen_out, skip_special_tokens=True)\n",
    "  return output_text\n"
   ]
  },
  {
   "cell_type": "code",
   "execution_count": 9,
   "id": "0a0a4350",
   "metadata": {},
   "outputs": [
    {
     "name": "stdout",
     "output_type": "stream",
     "text": [
      "[\"A deep convolutional neural network (CNN) has been developed to estimate neutral atomic hydrogen (HI) content directly from SDSS griimage cutouts. It predicts a galaxy's logarithmic H Imass fraction by training a CNN on galaxies in the ALFALFA (2004) sample. We test CNN predictions on the ALFALFA 100%, xGASS, and NIBLES catalogs, and find that the CNN consistently outperforms previous estimators.\"]\n"
     ]
    }
   ],
   "source": [
    "paperName = \"SampleResearchPaper\"\n",
    "\n",
    "content = Parser(pdfFile = \"./papers/\" + paperName +\".pdf\")\n",
    "\n",
    "print(get_response(content))"
   ]
  }
 ],
 "metadata": {
  "kernelspec": {
   "display_name": "Python 3 (ipykernel)",
   "language": "python",
   "name": "python3"
  },
  "language_info": {
   "codemirror_mode": {
    "name": "ipython",
    "version": 3
   },
   "file_extension": ".py",
   "mimetype": "text/x-python",
   "name": "python",
   "nbconvert_exporter": "python",
   "pygments_lexer": "ipython3",
   "version": "3.10.10"
  }
 },
 "nbformat": 4,
 "nbformat_minor": 5
}
