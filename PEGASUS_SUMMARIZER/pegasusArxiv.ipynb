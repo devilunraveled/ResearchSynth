{
 "cells": [
  {
   "cell_type": "code",
   "execution_count": 1,
   "id": "e27ef457",
   "metadata": {
    "scrolled": true
   },
   "outputs": [
    {
     "name": "stderr",
     "output_type": "stream",
     "text": [
      "2023-11-17 16:41:48.953592: E external/local_xla/xla/stream_executor/cuda/cuda_dnn.cc:9261] Unable to register cuDNN factory: Attempting to register factory for plugin cuDNN when one has already been registered\n",
      "2023-11-17 16:41:48.953648: E external/local_xla/xla/stream_executor/cuda/cuda_fft.cc:607] Unable to register cuFFT factory: Attempting to register factory for plugin cuFFT when one has already been registered\n",
      "2023-11-17 16:41:48.977681: E external/local_xla/xla/stream_executor/cuda/cuda_blas.cc:1515] Unable to register cuBLAS factory: Attempting to register factory for plugin cuBLAS when one has already been registered\n",
      "2023-11-17 16:41:50.111634: W tensorflow/compiler/tf2tensorrt/utils/py_utils.cc:38] TF-TRT Warning: Could not find TensorRT\n"
     ]
    }
   ],
   "source": [
    "import sys\n",
    "from torch import squeeze\n",
    "sys.path.append('..')\n",
    "\n",
    "from transformers import PegasusForConditionalGeneration, PegasusTokenizer, Trainer, TrainingArguments\n",
    "\n",
    "from datasets import load_dataset\n",
    "\n",
    "tokenizer = None"
   ]
  },
  {
   "cell_type": "code",
   "execution_count": 2,
   "id": "6f0d49dd",
   "metadata": {},
   "outputs": [],
   "source": [
    "def preprocess_function(examples):\n",
    "    global tokenizer\n",
    "\n",
    "    if tokenizer is None:\n",
    "        getTokenizer(\"google/pegasus-large\")\n",
    "\n",
    "    data = {}\n",
    "    data[\"summary\"] = tokenizer(examples[\"abstract\"], max_length=512, truncation=True, padding='max_length')\n",
    "    data[\"paper\"] = tokenizer(examples[\"article\"], max_length=512, truncation=True, padding='max_length')\n",
    "\n",
    "    return  {\n",
    "        \"input_ids\" : data[\"paper\"][\"input_ids\"],\n",
    "        \"attention_mask\": data[\"paper\"][\"attention_mask\"],  \n",
    "        \"labels\": data[\"summary\"][\"input_ids\"],\n",
    "    }"
   ]
  },
  {
   "cell_type": "code",
   "execution_count": 3,
   "id": "e6b90569",
   "metadata": {
    "scrolled": true
   },
   "outputs": [],
   "source": [
    "def getTokenizer(modelName):\n",
    "    global tokenizer\n",
    "    # Tokenize the dataset using the same tokenizer\n",
    "    tokenizer = PegasusTokenizer.from_pretrained(modelName)\n",
    "    print(\"Tokenizer loaded\")\n",
    "    return tokenizer"
   ]
  },
  {
   "cell_type": "code",
   "execution_count": 4,
   "id": "fcf0ba06",
   "metadata": {},
   "outputs": [],
   "source": [
    "def loadModel(modelName):\n",
    "    # Load pre-trained Pegasus model and tokenizer\n",
    "    # model_name = \"google/pegasus-large\"\n",
    "    model = PegasusForConditionalGeneration.from_pretrained(modelName)\n",
    "\n",
    "    print(\"Model loaded\")\n",
    "\n",
    "    if ( model is None ):\n",
    "        print(\"Model not found\")\n",
    "        exit(0)\n",
    "\n",
    "    return model"
   ]
  },
  {
   "cell_type": "code",
   "execution_count": 5,
   "id": "b853be43",
   "metadata": {},
   "outputs": [],
   "source": [
    "def prepareDataset(datasetName):\n",
    "    # Using the dataset\n",
    "    datasetName = \"ccdv/arxiv-summarization\"\n",
    "    dataset = load_dataset(datasetName)\n",
    "\n",
    "    print(\"Dataset loaded\")\n",
    "    \n",
    "    print(dataset)\n",
    "    processedDataset = {}\n",
    "    #Tokenizing the dataset\n",
    "    for split in [\"train\", \"validation\"]:\n",
    "        processedDataset[split] = dataset[split].map(preprocess_function, batched=True, num_proc=10, remove_columns=[\"abstract\", \"article\"])\n",
    "\n",
    "    # return dataset\n",
    "    print(\"Dataset tokenized\")\n",
    "    return processedDataset\n"
   ]
  },
  {
   "cell_type": "code",
   "execution_count": 6,
   "id": "7484aac2",
   "metadata": {},
   "outputs": [],
   "source": [
    "def setTrainingArguments():\n",
    "    # Define training arguments\n",
    "    return TrainingArguments(\n",
    "        output_dir=\"./output\",                 # Output directory for model checkpoints and predictions\n",
    "        overwrite_output_dir=True,             # Overwrite the content of the output directory\n",
    "        num_train_epochs=3,                    # Number of training epochs\n",
    "        per_device_train_batch_size=1,         # Batch size per GPU\n",
    "        save_steps=10_000,                     # Save checkpoint every X steps\n",
    "        save_total_limit=3,                    # Limit the total amount of checkpoints to save\n",
    "        evaluation_strategy=\"steps\",           # Evaluate and save checkpoint every eval_steps\n",
    "        eval_steps=500,                        # Number of update steps between two evaluations\n",
    "        logging_steps=500,                     # Log training information every X steps\n",
    "        learning_rate=2e-5,                    # Learning rate\n",
    "        gradient_accumulation_steps=4,         # Number of steps to accumulate gradients\n",
    "        warmup_steps=500,                      # Number of steps for linear warmup\n",
    "        weight_decay=0.01,                     # Weight decay for regularization\n",
    "        logging_dir=\"./logs\",                  # Directory for Tensorboard logs\n",
    "    )"
   ]
  },
  {
   "cell_type": "code",
   "execution_count": 7,
   "id": "75104de6",
   "metadata": {},
   "outputs": [],
   "source": [
    "def trainModel(model, tokenized_datasets, training_args):\n",
    "    # Fine-tune the model\n",
    "    trainer = Trainer(\n",
    "        model=model,\n",
    "        args=training_args,\n",
    "        train_dataset=tokenized_datasets[\"train\"],\n",
    "        eval_dataset=tokenized_datasets[\"validation\"],\n",
    "    )\n",
    "    print(\"Starting training\")\n",
    "\n",
    "    # Run the code to train the model\n",
    "    trainer.train()\n"
   ]
  },
  {
   "cell_type": "code",
   "execution_count": 8,
   "id": "8b5db0c9",
   "metadata": {},
   "outputs": [
    {
     "name": "stderr",
     "output_type": "stream",
     "text": [
      "Some weights of PegasusForConditionalGeneration were not initialized from the model checkpoint at google/pegasus-large and are newly initialized: ['model.decoder.embed_positions.weight', 'model.encoder.embed_positions.weight']\n",
      "You should probably TRAIN this model on a down-stream task to be able to use it for predictions and inference.\n"
     ]
    },
    {
     "name": "stdout",
     "output_type": "stream",
     "text": [
      "Model loaded\n",
      "Tokenizer loaded\n",
      "Dataset loaded\n",
      "DatasetDict({\n",
      "    train: Dataset({\n",
      "        features: ['article', 'abstract'],\n",
      "        num_rows: 203037\n",
      "    })\n",
      "    validation: Dataset({\n",
      "        features: ['article', 'abstract'],\n",
      "        num_rows: 6436\n",
      "    })\n",
      "    test: Dataset({\n",
      "        features: ['article', 'abstract'],\n",
      "        num_rows: 6440\n",
      "    })\n",
      "})\n",
      "Dataset tokenized\n"
     ]
    }
   ],
   "source": [
    "pegasusBase = loadModel(\"google/pegasus-large\")\n",
    "pegasusTokenizer = getTokenizer(\"google/pegasus-large\")\n",
    "tokenizedDataset = prepareDataset(\"ccdv/arxiv-summarization\")\n",
    "trainingArgs = setTrainingArguments()"
   ]
  },
  {
   "cell_type": "code",
   "execution_count": null,
   "id": "e824effa",
   "metadata": {
    "scrolled": true
   },
   "outputs": [
    {
     "name": "stdout",
     "output_type": "stream",
     "text": [
      "Starting training\n"
     ]
    },
    {
     "data": {
      "text/html": [
       "\n",
       "    <div>\n",
       "      \n",
       "      <progress value='2' max='152277' style='width:300px; height:20px; vertical-align: middle;'></progress>\n",
       "      [     2/152277 : < :, Epoch 0.00/3]\n",
       "    </div>\n",
       "    <table border=\"1\" class=\"dataframe\">\n",
       "  <thead>\n",
       " <tr style=\"text-align: left;\">\n",
       "      <th>Step</th>\n",
       "      <th>Training Loss</th>\n",
       "      <th>Validation Loss</th>\n",
       "    </tr>\n",
       "  </thead>\n",
       "  <tbody>\n",
       "  </tbody>\n",
       "</table><p>"
      ],
      "text/plain": [
       "<IPython.core.display.HTML object>"
      ]
     },
     "metadata": {},
     "output_type": "display_data"
    }
   ],
   "source": [
    "trainModel(pegasusBase, tokenizedDataset, trainingArgs)"
   ]
  },
  {
   "cell_type": "code",
   "execution_count": null,
   "id": "82d584b4",
   "metadata": {},
   "outputs": [],
   "source": []
  }
 ],
 "metadata": {
  "kernelspec": {
   "display_name": "Python 3 (ipykernel)",
   "language": "python",
   "name": "python3"
  },
  "language_info": {
   "codemirror_mode": {
    "name": "ipython",
    "version": 3
   },
   "file_extension": ".py",
   "mimetype": "text/x-python",
   "name": "python",
   "nbconvert_exporter": "python",
   "pygments_lexer": "ipython3",
   "version": "3.10.13"
  }
 },
 "nbformat": 4,
 "nbformat_minor": 5
}
