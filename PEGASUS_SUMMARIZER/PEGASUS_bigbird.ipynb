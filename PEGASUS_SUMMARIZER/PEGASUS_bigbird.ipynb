{
 "cells": [
  {
   "cell_type": "markdown",
   "id": "29232896",
   "metadata": {},
   "source": [
    "## PEGASUS Local"
   ]
  },
  {
   "cell_type": "code",
   "execution_count": 1,
   "id": "7be9b778",
   "metadata": {},
   "outputs": [
    {
     "name": "stderr",
     "output_type": "stream",
     "text": [
      "/home/ashmitchamoli/.local/lib/python3.11/site-packages/tqdm/auto.py:21: TqdmWarning: IProgress not found. Please update jupyter and ipywidgets. See https://ipywidgets.readthedocs.io/en/stable/user_install.html\n",
      "  from .autonotebook import tqdm as notebook_tqdm\n"
     ]
    }
   ],
   "source": [
    "import sys\n",
    "sys.path.append('..')\n",
    "\n",
    "import torch\n",
    "from parser.parser import Parser\n",
    "\n",
    "from scorer import Score\n",
    "\n",
    "from transformers import BigBirdPegasusForConditionalGeneration, AutoTokenizer"
   ]
  },
  {
   "cell_type": "markdown",
   "id": "1401b3c4",
   "metadata": {},
   "source": [
    "### Getting the token and downloading the model"
   ]
  },
  {
   "cell_type": "code",
   "execution_count": 2,
   "id": "15ff0234",
   "metadata": {},
   "outputs": [],
   "source": [
    "tokenizer = AutoTokenizer.from_pretrained(\"google/bigbird-pegasus-large-arxiv\")\n",
    "\n",
    "# by default encoder-attention is `block_sparse` with num_random_blocks=3, block_size=64\n",
    "model = BigBirdPegasusForConditionalGeneration.from_pretrained(\"google/bigbird-pegasus-large-arxiv\")\n",
    "\n",
    "# # decoder attention type can't be changed & will be \"original_full\"\n",
    "# # you can change `attention_type` (encoder only) to full attention like this:\n",
    "# model = BigBirdPegasusForConditionalGeneration.from_pretrained(\"google/bigbird-pegasus-large-arxiv\", attention_type=\"original_full\")\n",
    "\n",
    "# # you can change `block_size` & `num_random_blocks` like this:\n",
    "# model = BigBirdPegasusForConditionalGeneration.from_pretrained(\"google/bigbird-pegasus-large-arxiv\", block_size=16, num_random_blocks=2)"
   ]
  },
  {
   "cell_type": "markdown",
   "id": "4c2b291f",
   "metadata": {},
   "source": [
    "### Getting response"
   ]
  },
  {
   "cell_type": "code",
   "execution_count": 3,
   "id": "eb5418ba",
   "metadata": {},
   "outputs": [],
   "source": [
    "def get_response(input_text):\n",
    "  inputs = tokenizer(input_text, return_tensors='pt', max_length=4096, truncation=True)\n",
    "  prediction = model.generate(**inputs)\n",
    "  prediction = tokenizer.batch_decode(prediction)\n",
    "  return prediction"
   ]
  },
  {
   "cell_type": "markdown",
   "id": "06a82718",
   "metadata": {},
   "source": [
    "### Getting the Summary"
   ]
  },
  {
   "cell_type": "code",
   "execution_count": 4,
   "id": "cc1ec634",
   "metadata": {},
   "outputs": [],
   "source": [
    "import sys\n",
    "sys.path.append('..')\n",
    "from Datasets.DataLoader import DataLoader\n",
    "\n",
    "# loading the datasets\n",
    "datasetLoader = DataLoader(datasetName='arxiv')\n",
    "\n",
    "arxiv_test = datasetLoader.getData('../Datasets/', split='test')\n",
    "datasetLoader.datasetName = 'pubmed'\n",
    "pubmed_test = datasetLoader.getData('../Datasets/', split='test')"
   ]
  },
  {
   "cell_type": "code",
   "execution_count": 5,
   "id": "8abbd541",
   "metadata": {},
   "outputs": [
    {
     "name": "stdout",
     "output_type": "stream",
     "text": [
      "<s> the problem of the existence of the periodicity of about 155 days in sunspot data from cycle 16 is considered.<n> the daily sunspot areas, the mean sunspot areas per carrington rotation, the monthly sunspot numbers and their fluctuations, which are obtained after removing the 11-year cycle, are analysed.<n> the power spectrum method is used.<n> the numerical results of the new method of the diagnosis of an echo - effect for sunspot area data are discussed.<n> the numerical results of the new method of the diagnosis of an echo - effect for sunspot area data are discussed.<n> the numerical results of the new method of the diagnosis of an echo - effect for sunspot area data are presented.<n> it is shown that the existence of the periodicity of about 155 days in sunspot data from cycle 16 is statistically significant during all solar cycles from 16 to 21.<n> the existence of this periodicity was confirmed by @xcite, @xcite, @xcite, @xcite, @xcite, @xcite, @xcite, @xcite, @xcite, @xcite, @xcite, @xcite\n"
     ]
    }
   ],
   "source": [
    "content = '.'.join(arxiv_test.loc[0, 'article_text'])\n",
    "\n",
    "pegasusSummary = get_response(content)[0]\n",
    "\n",
    "print(pegasusSummary)"
   ]
  },
  {
   "cell_type": "code",
   "execution_count": 11,
   "id": "d45dbffc",
   "metadata": {},
   "outputs": [],
   "source": [
    "goldenSummary = '.'.join(arxiv_test.loc[0, 'abstract_text'])\n",
    "score = Score(trueSummary = goldenSummary, predSummary = pegasusSummary)"
   ]
  },
  {
   "cell_type": "code",
   "execution_count": 12,
   "id": "7afc0781",
   "metadata": {},
   "outputs": [
    {
     "name": "stdout",
     "output_type": "stream",
     "text": [
      "Criteria:rouge1, Score:Score(precision=0.5433526011560693, recall=0.44976076555023925, fmeasure=0.4921465968586387)\n",
      "Criteria:rouge2, Score:Score(precision=0.2558139534883721, recall=0.21153846153846154, fmeasure=0.23157894736842105)\n",
      "Criteria:rougeL, Score:Score(precision=0.2947976878612717, recall=0.24401913875598086, fmeasure=0.26701570680628267)\n"
     ]
    }
   ],
   "source": [
    "for key, value in score.rougeScore().items():\n",
    "    print(f\"Criteria:{key}, Score:{value}\")"
   ]
  },
  {
   "cell_type": "code",
   "execution_count": 13,
   "id": "902d055e",
   "metadata": {},
   "outputs": [
    {
     "name": "stdout",
     "output_type": "stream",
     "text": [
      "Generated summary for 1009.3123.\n",
      "Generated summary for 1512.09139.\n",
      "Generated summary for 0909.1602.\n",
      "Generated summary for 1512.03812.\n",
      "Generated summary for 1512.09024.\n",
      "Generated summary for 0807.5065.\n",
      "Generated summary for 0908.1812.\n",
      "Generated summary for hep-ph0701277.\n",
      "Generated summary for 1311.0649.\n",
      "Generated summary for nlin0001046.\n",
      "Generated summary for quant-ph0307206.\n",
      "Generated summary for 1412.2508.\n",
      "Generated summary for 1512.07656.\n",
      "Generated summary for 1004.5347.\n",
      "Generated summary for 1001.0199.\n",
      "Generated summary for hep-lat0105026.\n",
      "Generated summary for quant-ph0305125.\n",
      "Generated summary for 0809.0691.\n",
      "Generated summary for hep-ph9602267.\n",
      "Generated summary for 1307.2735.\n",
      "Generated summary for astro-ph0205340.\n",
      "Generated summary for 1111.4135.\n",
      "Generated summary for 1602.03055.\n",
      "Generated summary for hep-ex0307059.\n",
      "Generated summary for 0801.1913.\n",
      "Generated summary for astro-ph0011128.\n",
      "Generated summary for 0907.5423.\n",
      "Generated summary for 1601.05253.\n",
      "Generated summary for astro-ph9605008.\n",
      "Generated summary for 1508.03070.\n",
      "Generated summary for 1702.04864.\n",
      "Generated summary for hep-ph9702208.\n",
      "Generated summary for hep-ph0205344.\n",
      "Generated summary for astro-ph0612210.\n",
      "Generated summary for 1401.4918.\n",
      "Generated summary for 1212.0086.\n",
      "Generated summary for cond-mat0512060.\n"
     ]
    }
   ],
   "source": [
    "import time\n",
    "import numpy as np\n",
    "\n",
    "# pick only the first 1000 rows from the dataframes\n",
    "arxiv_test = arxiv_test[:100]\n",
    "pubmed_test = pubmed_test[:100]\n",
    "\n",
    "# creating 'Gold Summary' column\n",
    "def mapping(row):\n",
    "    row['Gold Summary'] = ''.join(row['abstract_text'])\n",
    "    return row\n",
    "\n",
    "arxiv_test = arxiv_test.apply(mapping, axis=1)\n",
    "pubmed_test = pubmed_test.apply(mapping, axis=1)\n",
    "\n",
    "# generating summaries\n",
    "def generateSummary(row):\n",
    "    article = ''.join(row['article_text'])\n",
    "    summary = get_response(article)[0]\n",
    "    row['Generated Summary'] = summary\n",
    "    print(f\"Generated summary for {row['article_id']}.\")\n",
    "    return row\n",
    "\n",
    "start_time = time.process_time()\n",
    "arxiv_test = arxiv_test.apply(generateSummary, axis=1)\n",
    "print('Time taken for arxiv: ', time.process_time() - start_time)\n",
    "\n",
    "start_time = time.process_time()\n",
    "pubmed_test = pubmed_test.apply(generateSummary, axis=1)\n",
    "print('Time taken for pubmed: ', time.process_time() - start_time)\n",
    "\n",
    "# evaluating the summaries\n",
    "from Evaluation.evaluation import rougeScores\n",
    "arxiv_test, rougeScoresArxiv = rougeScores(arxiv_test)\n",
    "pubmed_test, rougeScoresPubmed = rougeScores(pubmed_test)\n",
    "\n",
    "# printing the results\n",
    "print('arxiv')\n",
    "print('rouge1: ', np.mean([ score.fmeasure for score in rougeScoresArxiv['rouge1'] ]))\n",
    "print('rouge2: ', np.mean([ score.fmeasure for score in rougeScoresArxiv['rouge2'] ]))\n",
    "print('rougeL: ', np.mean([ score.fmeasure for score in rougeScoresArxiv['rougeL'] ]))\n",
    "print('pubmed')\n",
    "print('rouge1: ', np.mean([ score.fmeasure for score in rougeScoresPubmed['rouge1'] ]))\n",
    "print('rouge2: ', np.mean([ score.fmeasure for score in rougeScoresPubmed['rouge2'] ]))\n",
    "print('rougeL: ', np.mean([ score.fmeasure for score in rougeScoresPubmed['rougeL'] ]))\n",
    "\n",
    "# saving the results\n",
    "arxiv_test.to_csv('arxiv_test_bigbird.csv')\n",
    "pubmed_test.to_csv('pubmed_test_bigbird.csv')"
   ]
  }
 ],
 "metadata": {
  "kernelspec": {
   "display_name": "Python 3 (ipykernel)",
   "language": "python",
   "name": "python3"
  },
  "language_info": {
   "codemirror_mode": {
    "name": "ipython",
    "version": 3
   },
   "file_extension": ".py",
   "mimetype": "text/x-python",
   "name": "python",
   "nbconvert_exporter": "python",
   "pygments_lexer": "ipython3",
   "version": "3.11.6"
  }
 },
 "nbformat": 4,
 "nbformat_minor": 5
}
