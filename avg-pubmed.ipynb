{
 "cells": [
  {
   "cell_type": "code",
   "execution_count": 1,
   "id": "877df066",
   "metadata": {},
   "outputs": [],
   "source": [
    "import pandas as pd"
   ]
  },
  {
   "cell_type": "code",
   "execution_count": 2,
   "id": "09de9b47",
   "metadata": {},
   "outputs": [],
   "source": [
    "import numpy as np\n",
    "import ast\n",
    "import re"
   ]
  },
  {
   "cell_type": "code",
   "execution_count": 4,
   "id": "0bea27f3",
   "metadata": {},
   "outputs": [],
   "source": [
    "pubmed = pd.read_csv(\"/Users/ashnadua/Desktop/IRE-project/sum_it_up_test_pubmed.csv\")"
   ]
  },
  {
   "cell_type": "code",
   "execution_count": 5,
   "id": "c3fda690",
   "metadata": {},
   "outputs": [
    {
     "data": {
      "text/html": [
       "<div>\n",
       "<style scoped>\n",
       "    .dataframe tbody tr th:only-of-type {\n",
       "        vertical-align: middle;\n",
       "    }\n",
       "\n",
       "    .dataframe tbody tr th {\n",
       "        vertical-align: top;\n",
       "    }\n",
       "\n",
       "    .dataframe thead th {\n",
       "        text-align: right;\n",
       "    }\n",
       "</style>\n",
       "<table border=\"1\" class=\"dataframe\">\n",
       "  <thead>\n",
       "    <tr style=\"text-align: right;\">\n",
       "      <th></th>\n",
       "      <th>article</th>\n",
       "      <th>Gold Summary</th>\n",
       "      <th>Generated Summary</th>\n",
       "      <th>Rouge</th>\n",
       "    </tr>\n",
       "  </thead>\n",
       "  <tbody>\n",
       "    <tr>\n",
       "      <th>0</th>\n",
       "      <td>anxiety affects quality of life in those livin...</td>\n",
       "      <td>research on the implications of anxiety in par...</td>\n",
       "      <td>the first study found that working memory perf...</td>\n",
       "      <td>{'rouge1': array([0.23963964, 0.74301676, 0.36...</td>\n",
       "    </tr>\n",
       "    <tr>\n",
       "      <th>1</th>\n",
       "      <td>small non coding rnas are transcribed into mrn...</td>\n",
       "      <td>small non coding rnas include sirna mirna pirn...</td>\n",
       "      <td>the identification of the expression signature...</td>\n",
       "      <td>{'rouge1': array([0.15827338, 0.74157303, 0.26...</td>\n",
       "    </tr>\n",
       "    <tr>\n",
       "      <th>2</th>\n",
       "      <td>ohss is a serious complication of ovulation in...</td>\n",
       "      <td>objective to evaluate the efficacy and safety ...</td>\n",
       "      <td>although all 33 patients presented with shortn...</td>\n",
       "      <td>{'rouge1': array([0.25678119, 0.62831858, 0.36...</td>\n",
       "    </tr>\n",
       "    <tr>\n",
       "      <th>3</th>\n",
       "      <td>congenital adrenal hyperplasia cah refers to a...</td>\n",
       "      <td>congenital adrenal hyperplasia is a group of a...</td>\n",
       "      <td>among the females 9 infants were identified at...</td>\n",
       "      <td>{'rouge1': array([0.20936639, 0.608     , 0.31...</td>\n",
       "    </tr>\n",
       "    <tr>\n",
       "      <th>4</th>\n",
       "      <td>type 1 diabetes t1d results from the destructi...</td>\n",
       "      <td>objective s pentoxifylline is an immunomodulat...</td>\n",
       "      <td>in summary results of the present work demonst...</td>\n",
       "      <td>{'rouge1': array([0.2716763 , 0.71573604, 0.39...</td>\n",
       "    </tr>\n",
       "  </tbody>\n",
       "</table>\n",
       "</div>"
      ],
      "text/plain": [
       "                                             article  \\\n",
       "0  anxiety affects quality of life in those livin...   \n",
       "1  small non coding rnas are transcribed into mrn...   \n",
       "2  ohss is a serious complication of ovulation in...   \n",
       "3  congenital adrenal hyperplasia cah refers to a...   \n",
       "4  type 1 diabetes t1d results from the destructi...   \n",
       "\n",
       "                                        Gold Summary  \\\n",
       "0  research on the implications of anxiety in par...   \n",
       "1  small non coding rnas include sirna mirna pirn...   \n",
       "2  objective to evaluate the efficacy and safety ...   \n",
       "3  congenital adrenal hyperplasia is a group of a...   \n",
       "4  objective s pentoxifylline is an immunomodulat...   \n",
       "\n",
       "                                   Generated Summary  \\\n",
       "0  the first study found that working memory perf...   \n",
       "1  the identification of the expression signature...   \n",
       "2  although all 33 patients presented with shortn...   \n",
       "3  among the females 9 infants were identified at...   \n",
       "4  in summary results of the present work demonst...   \n",
       "\n",
       "                                               Rouge  \n",
       "0  {'rouge1': array([0.23963964, 0.74301676, 0.36...  \n",
       "1  {'rouge1': array([0.15827338, 0.74157303, 0.26...  \n",
       "2  {'rouge1': array([0.25678119, 0.62831858, 0.36...  \n",
       "3  {'rouge1': array([0.20936639, 0.608     , 0.31...  \n",
       "4  {'rouge1': array([0.2716763 , 0.71573604, 0.39...  "
      ]
     },
     "execution_count": 5,
     "metadata": {},
     "output_type": "execute_result"
    }
   ],
   "source": [
    "pubmed.head()"
   ]
  },
  {
   "cell_type": "code",
   "execution_count": 6,
   "id": "c3bb7450",
   "metadata": {},
   "outputs": [
    {
     "data": {
      "text/plain": [
       "\"{'rouge1': array([0.23963964, 0.74301676, 0.36239782]), 'rouge2': array([0.09927798, 0.30898876, 0.15027322]), 'rouge3': array([0.03797468, 0.11864407, 0.05753425])}\""
      ]
     },
     "execution_count": 6,
     "metadata": {},
     "output_type": "execute_result"
    }
   ],
   "source": [
    "pubmed[\"Rouge\"][0]"
   ]
  },
  {
   "cell_type": "code",
   "execution_count": 7,
   "id": "932f554c",
   "metadata": {},
   "outputs": [],
   "source": [
    "rouge_scores = pubmed[\"Rouge\"]"
   ]
  },
  {
   "cell_type": "code",
   "execution_count": 8,
   "id": "e5e84060",
   "metadata": {},
   "outputs": [
    {
     "data": {
      "text/html": [
       "<div>\n",
       "<style scoped>\n",
       "    .dataframe tbody tr th:only-of-type {\n",
       "        vertical-align: middle;\n",
       "    }\n",
       "\n",
       "    .dataframe tbody tr th {\n",
       "        vertical-align: top;\n",
       "    }\n",
       "\n",
       "    .dataframe thead th {\n",
       "        text-align: right;\n",
       "    }\n",
       "</style>\n",
       "<table border=\"1\" class=\"dataframe\">\n",
       "  <thead>\n",
       "    <tr style=\"text-align: right;\">\n",
       "      <th></th>\n",
       "      <th>Rouge</th>\n",
       "    </tr>\n",
       "  </thead>\n",
       "  <tbody>\n",
       "    <tr>\n",
       "      <th>0</th>\n",
       "      <td>{'rouge1': array([0.23963964, 0.74301676, 0.36...</td>\n",
       "    </tr>\n",
       "    <tr>\n",
       "      <th>1</th>\n",
       "      <td>{'rouge1': array([0.15827338, 0.74157303, 0.26...</td>\n",
       "    </tr>\n",
       "    <tr>\n",
       "      <th>2</th>\n",
       "      <td>{'rouge1': array([0.25678119, 0.62831858, 0.36...</td>\n",
       "    </tr>\n",
       "    <tr>\n",
       "      <th>3</th>\n",
       "      <td>{'rouge1': array([0.20936639, 0.608     , 0.31...</td>\n",
       "    </tr>\n",
       "    <tr>\n",
       "      <th>4</th>\n",
       "      <td>{'rouge1': array([0.2716763 , 0.71573604, 0.39...</td>\n",
       "    </tr>\n",
       "  </tbody>\n",
       "</table>\n",
       "</div>"
      ],
      "text/plain": [
       "                                               Rouge\n",
       "0  {'rouge1': array([0.23963964, 0.74301676, 0.36...\n",
       "1  {'rouge1': array([0.15827338, 0.74157303, 0.26...\n",
       "2  {'rouge1': array([0.25678119, 0.62831858, 0.36...\n",
       "3  {'rouge1': array([0.20936639, 0.608     , 0.31...\n",
       "4  {'rouge1': array([0.2716763 , 0.71573604, 0.39..."
      ]
     },
     "execution_count": 8,
     "metadata": {},
     "output_type": "execute_result"
    }
   ],
   "source": [
    "df = pd.DataFrame(rouge_scores)\n",
    "df.head()"
   ]
  },
  {
   "cell_type": "code",
   "execution_count": 9,
   "id": "51711de4",
   "metadata": {},
   "outputs": [
    {
     "data": {
      "text/plain": [
       "\"{'rouge1': array([0.23963964, 0.74301676, 0.36239782]), 'rouge2': array([0.09927798, 0.30898876, 0.15027322]), 'rouge3': array([0.03797468, 0.11864407, 0.05753425])}\""
      ]
     },
     "execution_count": 9,
     "metadata": {},
     "output_type": "execute_result"
    }
   ],
   "source": [
    "df['Rouge'][0]"
   ]
  },
  {
   "cell_type": "code",
   "execution_count": 10,
   "id": "ff84afd2",
   "metadata": {},
   "outputs": [],
   "source": [
    "# function to parse string and convert it into a dictionary with numpy arrays\n",
    "def parse_rouge(s):\n",
    "    s = re.sub(r'array\\(', '[', s)\n",
    "    s = re.sub(r'\\)', ']', s)\n",
    "    return eval(s)\n"
   ]
  },
  {
   "cell_type": "code",
   "execution_count": 11,
   "id": "898b9d34",
   "metadata": {},
   "outputs": [],
   "source": [
    "df['Rouge'] = df['Rouge'].apply(parse_rouge)\n",
    "\n",
    "# Split the 'Rouge' column into three separate columns\n",
    "df = df.join(pd.DataFrame(df.pop('Rouge').values.tolist(), index=df.index))"
   ]
  },
  {
   "cell_type": "code",
   "execution_count": 12,
   "id": "7e428b46",
   "metadata": {},
   "outputs": [
    {
     "data": {
      "text/html": [
       "<div>\n",
       "<style scoped>\n",
       "    .dataframe tbody tr th:only-of-type {\n",
       "        vertical-align: middle;\n",
       "    }\n",
       "\n",
       "    .dataframe tbody tr th {\n",
       "        vertical-align: top;\n",
       "    }\n",
       "\n",
       "    .dataframe thead th {\n",
       "        text-align: right;\n",
       "    }\n",
       "</style>\n",
       "<table border=\"1\" class=\"dataframe\">\n",
       "  <thead>\n",
       "    <tr style=\"text-align: right;\">\n",
       "      <th></th>\n",
       "      <th>rouge1</th>\n",
       "      <th>rouge2</th>\n",
       "      <th>rouge3</th>\n",
       "    </tr>\n",
       "  </thead>\n",
       "  <tbody>\n",
       "    <tr>\n",
       "      <th>0</th>\n",
       "      <td>[[0.23963964, 0.74301676, 0.36239782]]</td>\n",
       "      <td>[[0.09927798, 0.30898876, 0.15027322]]</td>\n",
       "      <td>[[0.03797468, 0.11864407, 0.05753425]]</td>\n",
       "    </tr>\n",
       "    <tr>\n",
       "      <th>1</th>\n",
       "      <td>[[0.15827338, 0.74157303, 0.26086957]]</td>\n",
       "      <td>[[0.07211538, 0.34090909, 0.11904762]]</td>\n",
       "      <td>[[0.0313253, 0.14942529, 0.05179283]]</td>\n",
       "    </tr>\n",
       "    <tr>\n",
       "      <th>2</th>\n",
       "      <td>[[0.25678119, 0.62831858, 0.36456996]]</td>\n",
       "      <td>[[0.07246377, 0.17777778, 0.1029601]]</td>\n",
       "      <td>[[0.02540835, 0.0625, 0.03612903]]</td>\n",
       "    </tr>\n",
       "    <tr>\n",
       "      <th>3</th>\n",
       "      <td>[[0.20936639, 0.608, 0.31147541]]</td>\n",
       "      <td>[[0.09116022, 0.26612903, 0.13580247]]</td>\n",
       "      <td>[[0.04709141, 0.13821138, 0.07024793]]</td>\n",
       "    </tr>\n",
       "    <tr>\n",
       "      <th>4</th>\n",
       "      <td>[[0.2716763, 0.71573604, 0.39385475]]</td>\n",
       "      <td>[[0.11969112, 0.31632653, 0.17366947]]</td>\n",
       "      <td>[[0.06576402, 0.17435897, 0.09550562]]</td>\n",
       "    </tr>\n",
       "  </tbody>\n",
       "</table>\n",
       "</div>"
      ],
      "text/plain": [
       "                                   rouge1  \\\n",
       "0  [[0.23963964, 0.74301676, 0.36239782]]   \n",
       "1  [[0.15827338, 0.74157303, 0.26086957]]   \n",
       "2  [[0.25678119, 0.62831858, 0.36456996]]   \n",
       "3       [[0.20936639, 0.608, 0.31147541]]   \n",
       "4   [[0.2716763, 0.71573604, 0.39385475]]   \n",
       "\n",
       "                                   rouge2  \\\n",
       "0  [[0.09927798, 0.30898876, 0.15027322]]   \n",
       "1  [[0.07211538, 0.34090909, 0.11904762]]   \n",
       "2   [[0.07246377, 0.17777778, 0.1029601]]   \n",
       "3  [[0.09116022, 0.26612903, 0.13580247]]   \n",
       "4  [[0.11969112, 0.31632653, 0.17366947]]   \n",
       "\n",
       "                                   rouge3  \n",
       "0  [[0.03797468, 0.11864407, 0.05753425]]  \n",
       "1   [[0.0313253, 0.14942529, 0.05179283]]  \n",
       "2      [[0.02540835, 0.0625, 0.03612903]]  \n",
       "3  [[0.04709141, 0.13821138, 0.07024793]]  \n",
       "4  [[0.06576402, 0.17435897, 0.09550562]]  "
      ]
     },
     "execution_count": 12,
     "metadata": {},
     "output_type": "execute_result"
    }
   ],
   "source": [
    "df.head()"
   ]
  },
  {
   "cell_type": "markdown",
   "id": "52167d16",
   "metadata": {},
   "source": [
    "### Rouge score represents: Precision, Recall, and F1"
   ]
  },
  {
   "cell_type": "code",
   "execution_count": 13,
   "id": "eaf3e475",
   "metadata": {},
   "outputs": [],
   "source": [
    "for rouge_type in ['rouge1', 'rouge2', 'rouge3']:\n",
    "    # Flatten the list\n",
    "    df[rouge_type] = df[rouge_type].apply(lambda x: x[0])\n",
    "    # Split the column into three separate columns\n",
    "    df[[f'precision-{rouge_type}', f'recall-{rouge_type}', f'f1-{rouge_type}']] = pd.DataFrame(df[rouge_type].tolist(), index=df.index)\n",
    "    df = df.drop(columns=[rouge_type])\n"
   ]
  },
  {
   "cell_type": "code",
   "execution_count": 14,
   "id": "4b3437a0",
   "metadata": {},
   "outputs": [
    {
     "data": {
      "text/html": [
       "<div>\n",
       "<style scoped>\n",
       "    .dataframe tbody tr th:only-of-type {\n",
       "        vertical-align: middle;\n",
       "    }\n",
       "\n",
       "    .dataframe tbody tr th {\n",
       "        vertical-align: top;\n",
       "    }\n",
       "\n",
       "    .dataframe thead th {\n",
       "        text-align: right;\n",
       "    }\n",
       "</style>\n",
       "<table border=\"1\" class=\"dataframe\">\n",
       "  <thead>\n",
       "    <tr style=\"text-align: right;\">\n",
       "      <th></th>\n",
       "      <th>precision-rouge1</th>\n",
       "      <th>recall-rouge1</th>\n",
       "      <th>f1-rouge1</th>\n",
       "      <th>precision-rouge2</th>\n",
       "      <th>recall-rouge2</th>\n",
       "      <th>f1-rouge2</th>\n",
       "      <th>precision-rouge3</th>\n",
       "      <th>recall-rouge3</th>\n",
       "      <th>f1-rouge3</th>\n",
       "    </tr>\n",
       "  </thead>\n",
       "  <tbody>\n",
       "    <tr>\n",
       "      <th>0</th>\n",
       "      <td>0.239640</td>\n",
       "      <td>0.743017</td>\n",
       "      <td>0.362398</td>\n",
       "      <td>0.099278</td>\n",
       "      <td>0.308989</td>\n",
       "      <td>0.150273</td>\n",
       "      <td>0.037975</td>\n",
       "      <td>0.118644</td>\n",
       "      <td>0.057534</td>\n",
       "    </tr>\n",
       "    <tr>\n",
       "      <th>1</th>\n",
       "      <td>0.158273</td>\n",
       "      <td>0.741573</td>\n",
       "      <td>0.260870</td>\n",
       "      <td>0.072115</td>\n",
       "      <td>0.340909</td>\n",
       "      <td>0.119048</td>\n",
       "      <td>0.031325</td>\n",
       "      <td>0.149425</td>\n",
       "      <td>0.051793</td>\n",
       "    </tr>\n",
       "    <tr>\n",
       "      <th>2</th>\n",
       "      <td>0.256781</td>\n",
       "      <td>0.628319</td>\n",
       "      <td>0.364570</td>\n",
       "      <td>0.072464</td>\n",
       "      <td>0.177778</td>\n",
       "      <td>0.102960</td>\n",
       "      <td>0.025408</td>\n",
       "      <td>0.062500</td>\n",
       "      <td>0.036129</td>\n",
       "    </tr>\n",
       "    <tr>\n",
       "      <th>3</th>\n",
       "      <td>0.209366</td>\n",
       "      <td>0.608000</td>\n",
       "      <td>0.311475</td>\n",
       "      <td>0.091160</td>\n",
       "      <td>0.266129</td>\n",
       "      <td>0.135802</td>\n",
       "      <td>0.047091</td>\n",
       "      <td>0.138211</td>\n",
       "      <td>0.070248</td>\n",
       "    </tr>\n",
       "    <tr>\n",
       "      <th>4</th>\n",
       "      <td>0.271676</td>\n",
       "      <td>0.715736</td>\n",
       "      <td>0.393855</td>\n",
       "      <td>0.119691</td>\n",
       "      <td>0.316327</td>\n",
       "      <td>0.173669</td>\n",
       "      <td>0.065764</td>\n",
       "      <td>0.174359</td>\n",
       "      <td>0.095506</td>\n",
       "    </tr>\n",
       "  </tbody>\n",
       "</table>\n",
       "</div>"
      ],
      "text/plain": [
       "   precision-rouge1  recall-rouge1  f1-rouge1  precision-rouge2  \\\n",
       "0          0.239640       0.743017   0.362398          0.099278   \n",
       "1          0.158273       0.741573   0.260870          0.072115   \n",
       "2          0.256781       0.628319   0.364570          0.072464   \n",
       "3          0.209366       0.608000   0.311475          0.091160   \n",
       "4          0.271676       0.715736   0.393855          0.119691   \n",
       "\n",
       "   recall-rouge2  f1-rouge2  precision-rouge3  recall-rouge3  f1-rouge3  \n",
       "0       0.308989   0.150273          0.037975       0.118644   0.057534  \n",
       "1       0.340909   0.119048          0.031325       0.149425   0.051793  \n",
       "2       0.177778   0.102960          0.025408       0.062500   0.036129  \n",
       "3       0.266129   0.135802          0.047091       0.138211   0.070248  \n",
       "4       0.316327   0.173669          0.065764       0.174359   0.095506  "
      ]
     },
     "execution_count": 14,
     "metadata": {},
     "output_type": "execute_result"
    }
   ],
   "source": [
    "df.head()"
   ]
  },
  {
   "cell_type": "code",
   "execution_count": 15,
   "id": "537b122a",
   "metadata": {},
   "outputs": [],
   "source": [
    "average_scores = df.mean().values"
   ]
  },
  {
   "cell_type": "code",
   "execution_count": 16,
   "id": "2dbcb4c5",
   "metadata": {},
   "outputs": [
    {
     "name": "stdout",
     "output_type": "stream",
     "text": [
      "Average Precision Rouge-1:  0.25008053767\n",
      "Average Recall Rouge-1:  0.65793603736\n",
      "Average F1 Rouge-1:  0.34882658833\n",
      "\n",
      "Average Precision Rouge-2:  0.10070240641000001\n",
      "Average Recall Rouge-2:  0.25901633590999995\n",
      "Average F1 Rouge-2:  0.13901021884\n",
      "\n",
      "Average Precision Rouge-3:  0.053793890700000006\n",
      "Average Recall Rouge-3:  0.13370987443000001\n",
      "Average F1 Rouge-3:  0.07317077259999999\n"
     ]
    }
   ],
   "source": [
    "print(\"Average Precision Rouge-1: \", average_scores[0])\n",
    "print(\"Average Recall Rouge-1: \", average_scores[1])\n",
    "print(\"Average F1 Rouge-1: \", average_scores[2])\n",
    "print()\n",
    "print(\"Average Precision Rouge-2: \", average_scores[3])\n",
    "print(\"Average Recall Rouge-2: \", average_scores[4])\n",
    "print(\"Average F1 Rouge-2: \", average_scores[5])\n",
    "print()\n",
    "print(\"Average Precision Rouge-3: \", average_scores[6])\n",
    "print(\"Average Recall Rouge-3: \", average_scores[7])\n",
    "print(\"Average F1 Rouge-3: \", average_scores[8])"
   ]
  },
  {
   "cell_type": "code",
   "execution_count": null,
   "id": "a6474c16",
   "metadata": {},
   "outputs": [],
   "source": []
  },
  {
   "cell_type": "code",
   "execution_count": null,
   "id": "0841b637",
   "metadata": {},
   "outputs": [],
   "source": []
  }
 ],
 "metadata": {
  "kernelspec": {
   "display_name": "Python 3 (ipykernel)",
   "language": "python",
   "name": "python3"
  },
  "language_info": {
   "codemirror_mode": {
    "name": "ipython",
    "version": 3
   },
   "file_extension": ".py",
   "mimetype": "text/x-python",
   "name": "python",
   "nbconvert_exporter": "python",
   "pygments_lexer": "ipython3",
   "version": "3.11.6"
  }
 },
 "nbformat": 4,
 "nbformat_minor": 5
}
