{
 "cells": [
  {
   "cell_type": "code",
   "execution_count": 1,
   "id": "877df066",
   "metadata": {},
   "outputs": [],
   "source": [
    "import pandas as pd"
   ]
  },
  {
   "cell_type": "code",
   "execution_count": 28,
   "id": "09de9b47",
   "metadata": {},
   "outputs": [],
   "source": [
    "import numpy as np\n",
    "import ast\n",
    "import re"
   ]
  },
  {
   "cell_type": "code",
   "execution_count": 2,
   "id": "0bea27f3",
   "metadata": {},
   "outputs": [],
   "source": [
    "arx = pd.read_csv(\"/Users/ashnadua/Desktop/IRE-project/sum_it_up_test.csv\")"
   ]
  },
  {
   "cell_type": "code",
   "execution_count": 3,
   "id": "c3fda690",
   "metadata": {},
   "outputs": [
    {
     "data": {
      "text/html": [
       "<div>\n",
       "<style scoped>\n",
       "    .dataframe tbody tr th:only-of-type {\n",
       "        vertical-align: middle;\n",
       "    }\n",
       "\n",
       "    .dataframe tbody tr th {\n",
       "        vertical-align: top;\n",
       "    }\n",
       "\n",
       "    .dataframe thead th {\n",
       "        text-align: right;\n",
       "    }\n",
       "</style>\n",
       "<table border=\"1\" class=\"dataframe\">\n",
       "  <thead>\n",
       "    <tr style=\"text-align: right;\">\n",
       "      <th></th>\n",
       "      <th>article</th>\n",
       "      <th>Gold Summary</th>\n",
       "      <th>Generated Summary</th>\n",
       "      <th>Rouge</th>\n",
       "    </tr>\n",
       "  </thead>\n",
       "  <tbody>\n",
       "    <tr>\n",
       "      <th>0</th>\n",
       "      <td>for about 20 years the problem of properties o...</td>\n",
       "      <td>the short term periodicities of the daily suns...</td>\n",
       "      <td>two effects cause the existence of the peak of...</td>\n",
       "      <td>{'rouge1': array([0.25763359, 0.69948187, 0.37...</td>\n",
       "    </tr>\n",
       "    <tr>\n",
       "      <th>1</th>\n",
       "      <td>it is believed that the direct detection of gr...</td>\n",
       "      <td>we study the detectability of circular polariz...</td>\n",
       "      <td>the following form for was derived in and our ...</td>\n",
       "      <td>{'rouge1': array([0.04610318, 0.46153846, 0.08...</td>\n",
       "    </tr>\n",
       "    <tr>\n",
       "      <th>2</th>\n",
       "      <td>as a common quantum phenomenon the tunneling t...</td>\n",
       "      <td>starting from the wkb approximation a new barr...</td>\n",
       "      <td>eq x1x2_approx we adopt a woods saxon form fo...</td>\n",
       "      <td>{'rouge1': array([0.11872146, 0.64197531, 0.20...</td>\n",
       "    </tr>\n",
       "    <tr>\n",
       "      <th>3</th>\n",
       "      <td>for the hybrid monte carlo algorithm hmc xcite...</td>\n",
       "      <td>we study a novel class of numerical integrator...</td>\n",
       "      <td>end aligned the second derivative of the ferm...</td>\n",
       "      <td>{'rouge1': array([0.09291339, 0.7972973 , 0.16...</td>\n",
       "    </tr>\n",
       "    <tr>\n",
       "      <th>4</th>\n",
       "      <td>recently it was discovered that feynman integr...</td>\n",
       "      <td>new methods for obtaining functional equations...</td>\n",
       "      <td>2prop_relation over a common denominator and ...</td>\n",
       "      <td>{'rouge1': array([0.09615385, 0.5       , 0.16...</td>\n",
       "    </tr>\n",
       "  </tbody>\n",
       "</table>\n",
       "</div>"
      ],
      "text/plain": [
       "                                             article  \\\n",
       "0  for about 20 years the problem of properties o...   \n",
       "1  it is believed that the direct detection of gr...   \n",
       "2  as a common quantum phenomenon the tunneling t...   \n",
       "3  for the hybrid monte carlo algorithm hmc xcite...   \n",
       "4  recently it was discovered that feynman integr...   \n",
       "\n",
       "                                        Gold Summary  \\\n",
       "0  the short term periodicities of the daily suns...   \n",
       "1  we study the detectability of circular polariz...   \n",
       "2  starting from the wkb approximation a new barr...   \n",
       "3  we study a novel class of numerical integrator...   \n",
       "4  new methods for obtaining functional equations...   \n",
       "\n",
       "                                   Generated Summary  \\\n",
       "0  two effects cause the existence of the peak of...   \n",
       "1  the following form for was derived in and our ...   \n",
       "2   eq x1x2_approx we adopt a woods saxon form fo...   \n",
       "3   end aligned the second derivative of the ferm...   \n",
       "4   2prop_relation over a common denominator and ...   \n",
       "\n",
       "                                               Rouge  \n",
       "0  {'rouge1': array([0.25763359, 0.69948187, 0.37...  \n",
       "1  {'rouge1': array([0.04610318, 0.46153846, 0.08...  \n",
       "2  {'rouge1': array([0.11872146, 0.64197531, 0.20...  \n",
       "3  {'rouge1': array([0.09291339, 0.7972973 , 0.16...  \n",
       "4  {'rouge1': array([0.09615385, 0.5       , 0.16...  "
      ]
     },
     "execution_count": 3,
     "metadata": {},
     "output_type": "execute_result"
    }
   ],
   "source": [
    "arx.head()"
   ]
  },
  {
   "cell_type": "code",
   "execution_count": 4,
   "id": "c3bb7450",
   "metadata": {},
   "outputs": [
    {
     "data": {
      "text/plain": [
       "\"{'rouge1': array([0.25763359, 0.69948187, 0.37656904]), 'rouge2': array([0.08986616, 0.24479167, 0.13146853]), 'rouge3': array([0.02681992, 0.07329843, 0.03927069])}\""
      ]
     },
     "execution_count": 4,
     "metadata": {},
     "output_type": "execute_result"
    }
   ],
   "source": [
    "arx[\"Rouge\"][0]"
   ]
  },
  {
   "cell_type": "code",
   "execution_count": 6,
   "id": "932f554c",
   "metadata": {},
   "outputs": [],
   "source": [
    "rouge_scores = arx[\"Rouge\"]"
   ]
  },
  {
   "cell_type": "code",
   "execution_count": 44,
   "id": "e5e84060",
   "metadata": {},
   "outputs": [
    {
     "data": {
      "text/html": [
       "<div>\n",
       "<style scoped>\n",
       "    .dataframe tbody tr th:only-of-type {\n",
       "        vertical-align: middle;\n",
       "    }\n",
       "\n",
       "    .dataframe tbody tr th {\n",
       "        vertical-align: top;\n",
       "    }\n",
       "\n",
       "    .dataframe thead th {\n",
       "        text-align: right;\n",
       "    }\n",
       "</style>\n",
       "<table border=\"1\" class=\"dataframe\">\n",
       "  <thead>\n",
       "    <tr style=\"text-align: right;\">\n",
       "      <th></th>\n",
       "      <th>Rouge</th>\n",
       "    </tr>\n",
       "  </thead>\n",
       "  <tbody>\n",
       "    <tr>\n",
       "      <th>0</th>\n",
       "      <td>{'rouge1': array([0.25763359, 0.69948187, 0.37...</td>\n",
       "    </tr>\n",
       "    <tr>\n",
       "      <th>1</th>\n",
       "      <td>{'rouge1': array([0.04610318, 0.46153846, 0.08...</td>\n",
       "    </tr>\n",
       "    <tr>\n",
       "      <th>2</th>\n",
       "      <td>{'rouge1': array([0.11872146, 0.64197531, 0.20...</td>\n",
       "    </tr>\n",
       "    <tr>\n",
       "      <th>3</th>\n",
       "      <td>{'rouge1': array([0.09291339, 0.7972973 , 0.16...</td>\n",
       "    </tr>\n",
       "    <tr>\n",
       "      <th>4</th>\n",
       "      <td>{'rouge1': array([0.09615385, 0.5       , 0.16...</td>\n",
       "    </tr>\n",
       "  </tbody>\n",
       "</table>\n",
       "</div>"
      ],
      "text/plain": [
       "                                               Rouge\n",
       "0  {'rouge1': array([0.25763359, 0.69948187, 0.37...\n",
       "1  {'rouge1': array([0.04610318, 0.46153846, 0.08...\n",
       "2  {'rouge1': array([0.11872146, 0.64197531, 0.20...\n",
       "3  {'rouge1': array([0.09291339, 0.7972973 , 0.16...\n",
       "4  {'rouge1': array([0.09615385, 0.5       , 0.16..."
      ]
     },
     "execution_count": 44,
     "metadata": {},
     "output_type": "execute_result"
    }
   ],
   "source": [
    "df = pd.DataFrame(rouge_scores)\n",
    "df.head()"
   ]
  },
  {
   "cell_type": "code",
   "execution_count": 45,
   "id": "51711de4",
   "metadata": {},
   "outputs": [
    {
     "data": {
      "text/plain": [
       "\"{'rouge1': array([0.25763359, 0.69948187, 0.37656904]), 'rouge2': array([0.08986616, 0.24479167, 0.13146853]), 'rouge3': array([0.02681992, 0.07329843, 0.03927069])}\""
      ]
     },
     "execution_count": 45,
     "metadata": {},
     "output_type": "execute_result"
    }
   ],
   "source": [
    "df['Rouge'][0]"
   ]
  },
  {
   "cell_type": "code",
   "execution_count": 46,
   "id": "ff84afd2",
   "metadata": {},
   "outputs": [],
   "source": [
    "# function to parse string and convert it into a dictionary with numpy arrays\n",
    "def parse_rouge(s):\n",
    "    s = re.sub(r'array\\(', '[', s)\n",
    "    s = re.sub(r'\\)', ']', s)\n",
    "    return eval(s)\n"
   ]
  },
  {
   "cell_type": "code",
   "execution_count": 47,
   "id": "898b9d34",
   "metadata": {},
   "outputs": [],
   "source": [
    "df['Rouge'] = df['Rouge'].apply(parse_rouge)\n",
    "\n",
    "# Split the 'Rouge' column into three separate columns\n",
    "df = df.join(pd.DataFrame(df.pop('Rouge').values.tolist(), index=df.index))"
   ]
  },
  {
   "cell_type": "code",
   "execution_count": 48,
   "id": "7e428b46",
   "metadata": {},
   "outputs": [
    {
     "data": {
      "text/html": [
       "<div>\n",
       "<style scoped>\n",
       "    .dataframe tbody tr th:only-of-type {\n",
       "        vertical-align: middle;\n",
       "    }\n",
       "\n",
       "    .dataframe tbody tr th {\n",
       "        vertical-align: top;\n",
       "    }\n",
       "\n",
       "    .dataframe thead th {\n",
       "        text-align: right;\n",
       "    }\n",
       "</style>\n",
       "<table border=\"1\" class=\"dataframe\">\n",
       "  <thead>\n",
       "    <tr style=\"text-align: right;\">\n",
       "      <th></th>\n",
       "      <th>rouge1</th>\n",
       "      <th>rouge2</th>\n",
       "      <th>rouge3</th>\n",
       "    </tr>\n",
       "  </thead>\n",
       "  <tbody>\n",
       "    <tr>\n",
       "      <th>0</th>\n",
       "      <td>[[0.25763359, 0.69948187, 0.37656904]]</td>\n",
       "      <td>[[0.08986616, 0.24479167, 0.13146853]]</td>\n",
       "      <td>[[0.02681992, 0.07329843, 0.03927069]]</td>\n",
       "    </tr>\n",
       "    <tr>\n",
       "      <th>1</th>\n",
       "      <td>[[0.04610318, 0.46153846, 0.08383234]]</td>\n",
       "      <td>[[0.00879121, 0.08888889, 0.016]]</td>\n",
       "      <td>[[0.0, 0.0, 0.0]]</td>\n",
       "    </tr>\n",
       "    <tr>\n",
       "      <th>2</th>\n",
       "      <td>[[0.11872146, 0.64197531, 0.20038536]]</td>\n",
       "      <td>[[0.04805492, 0.2625, 0.08123791]]</td>\n",
       "      <td>[[0.01605505, 0.08860759, 0.02718447]]</td>\n",
       "    </tr>\n",
       "    <tr>\n",
       "      <th>3</th>\n",
       "      <td>[[0.09291339, 0.7972973, 0.16643159]]</td>\n",
       "      <td>[[0.03785489, 0.32876712, 0.0678925]]</td>\n",
       "      <td>[[0.01421801, 0.125, 0.02553191]]</td>\n",
       "    </tr>\n",
       "    <tr>\n",
       "      <th>4</th>\n",
       "      <td>[[0.09615385, 0.5, 0.16129032]]</td>\n",
       "      <td>[[0.03327496, 0.17431193, 0.05588235]]</td>\n",
       "      <td>[[0.01052632, 0.05555556, 0.01769912]]</td>\n",
       "    </tr>\n",
       "  </tbody>\n",
       "</table>\n",
       "</div>"
      ],
      "text/plain": [
       "                                   rouge1  \\\n",
       "0  [[0.25763359, 0.69948187, 0.37656904]]   \n",
       "1  [[0.04610318, 0.46153846, 0.08383234]]   \n",
       "2  [[0.11872146, 0.64197531, 0.20038536]]   \n",
       "3   [[0.09291339, 0.7972973, 0.16643159]]   \n",
       "4         [[0.09615385, 0.5, 0.16129032]]   \n",
       "\n",
       "                                   rouge2  \\\n",
       "0  [[0.08986616, 0.24479167, 0.13146853]]   \n",
       "1       [[0.00879121, 0.08888889, 0.016]]   \n",
       "2      [[0.04805492, 0.2625, 0.08123791]]   \n",
       "3   [[0.03785489, 0.32876712, 0.0678925]]   \n",
       "4  [[0.03327496, 0.17431193, 0.05588235]]   \n",
       "\n",
       "                                   rouge3  \n",
       "0  [[0.02681992, 0.07329843, 0.03927069]]  \n",
       "1                       [[0.0, 0.0, 0.0]]  \n",
       "2  [[0.01605505, 0.08860759, 0.02718447]]  \n",
       "3       [[0.01421801, 0.125, 0.02553191]]  \n",
       "4  [[0.01052632, 0.05555556, 0.01769912]]  "
      ]
     },
     "execution_count": 48,
     "metadata": {},
     "output_type": "execute_result"
    }
   ],
   "source": [
    "df.head()"
   ]
  },
  {
   "cell_type": "markdown",
   "id": "52167d16",
   "metadata": {},
   "source": [
    "### Rouge score represents: Precision, Recall, and F1"
   ]
  },
  {
   "cell_type": "code",
   "execution_count": 49,
   "id": "eaf3e475",
   "metadata": {},
   "outputs": [],
   "source": [
    "for rouge_type in ['rouge1', 'rouge2', 'rouge3']:\n",
    "    # Flatten the list\n",
    "    df[rouge_type] = df[rouge_type].apply(lambda x: x[0])\n",
    "    # Split the column into three separate columns\n",
    "    df[[f'precision-{rouge_type}', f'recall-{rouge_type}', f'f1-{rouge_type}']] = pd.DataFrame(df[rouge_type].tolist(), index=df.index)\n",
    "    df = df.drop(columns=[rouge_type])\n"
   ]
  },
  {
   "cell_type": "code",
   "execution_count": 50,
   "id": "4b3437a0",
   "metadata": {},
   "outputs": [
    {
     "data": {
      "text/html": [
       "<div>\n",
       "<style scoped>\n",
       "    .dataframe tbody tr th:only-of-type {\n",
       "        vertical-align: middle;\n",
       "    }\n",
       "\n",
       "    .dataframe tbody tr th {\n",
       "        vertical-align: top;\n",
       "    }\n",
       "\n",
       "    .dataframe thead th {\n",
       "        text-align: right;\n",
       "    }\n",
       "</style>\n",
       "<table border=\"1\" class=\"dataframe\">\n",
       "  <thead>\n",
       "    <tr style=\"text-align: right;\">\n",
       "      <th></th>\n",
       "      <th>precision-rouge1</th>\n",
       "      <th>recall-rouge1</th>\n",
       "      <th>f1-rouge1</th>\n",
       "      <th>precision-rouge2</th>\n",
       "      <th>recall-rouge2</th>\n",
       "      <th>f1-rouge2</th>\n",
       "      <th>precision-rouge3</th>\n",
       "      <th>recall-rouge3</th>\n",
       "      <th>f1-rouge3</th>\n",
       "    </tr>\n",
       "  </thead>\n",
       "  <tbody>\n",
       "    <tr>\n",
       "      <th>0</th>\n",
       "      <td>0.257634</td>\n",
       "      <td>0.699482</td>\n",
       "      <td>0.376569</td>\n",
       "      <td>0.089866</td>\n",
       "      <td>0.244792</td>\n",
       "      <td>0.131469</td>\n",
       "      <td>0.026820</td>\n",
       "      <td>0.073298</td>\n",
       "      <td>0.039271</td>\n",
       "    </tr>\n",
       "    <tr>\n",
       "      <th>1</th>\n",
       "      <td>0.046103</td>\n",
       "      <td>0.461538</td>\n",
       "      <td>0.083832</td>\n",
       "      <td>0.008791</td>\n",
       "      <td>0.088889</td>\n",
       "      <td>0.016000</td>\n",
       "      <td>0.000000</td>\n",
       "      <td>0.000000</td>\n",
       "      <td>0.000000</td>\n",
       "    </tr>\n",
       "    <tr>\n",
       "      <th>2</th>\n",
       "      <td>0.118721</td>\n",
       "      <td>0.641975</td>\n",
       "      <td>0.200385</td>\n",
       "      <td>0.048055</td>\n",
       "      <td>0.262500</td>\n",
       "      <td>0.081238</td>\n",
       "      <td>0.016055</td>\n",
       "      <td>0.088608</td>\n",
       "      <td>0.027184</td>\n",
       "    </tr>\n",
       "    <tr>\n",
       "      <th>3</th>\n",
       "      <td>0.092913</td>\n",
       "      <td>0.797297</td>\n",
       "      <td>0.166432</td>\n",
       "      <td>0.037855</td>\n",
       "      <td>0.328767</td>\n",
       "      <td>0.067892</td>\n",
       "      <td>0.014218</td>\n",
       "      <td>0.125000</td>\n",
       "      <td>0.025532</td>\n",
       "    </tr>\n",
       "    <tr>\n",
       "      <th>4</th>\n",
       "      <td>0.096154</td>\n",
       "      <td>0.500000</td>\n",
       "      <td>0.161290</td>\n",
       "      <td>0.033275</td>\n",
       "      <td>0.174312</td>\n",
       "      <td>0.055882</td>\n",
       "      <td>0.010526</td>\n",
       "      <td>0.055556</td>\n",
       "      <td>0.017699</td>\n",
       "    </tr>\n",
       "  </tbody>\n",
       "</table>\n",
       "</div>"
      ],
      "text/plain": [
       "   precision-rouge1  recall-rouge1  f1-rouge1  precision-rouge2  \\\n",
       "0          0.257634       0.699482   0.376569          0.089866   \n",
       "1          0.046103       0.461538   0.083832          0.008791   \n",
       "2          0.118721       0.641975   0.200385          0.048055   \n",
       "3          0.092913       0.797297   0.166432          0.037855   \n",
       "4          0.096154       0.500000   0.161290          0.033275   \n",
       "\n",
       "   recall-rouge2  f1-rouge2  precision-rouge3  recall-rouge3  f1-rouge3  \n",
       "0       0.244792   0.131469          0.026820       0.073298   0.039271  \n",
       "1       0.088889   0.016000          0.000000       0.000000   0.000000  \n",
       "2       0.262500   0.081238          0.016055       0.088608   0.027184  \n",
       "3       0.328767   0.067892          0.014218       0.125000   0.025532  \n",
       "4       0.174312   0.055882          0.010526       0.055556   0.017699  "
      ]
     },
     "execution_count": 50,
     "metadata": {},
     "output_type": "execute_result"
    }
   ],
   "source": [
    "df.head()"
   ]
  },
  {
   "cell_type": "code",
   "execution_count": 52,
   "id": "537b122a",
   "metadata": {},
   "outputs": [],
   "source": [
    "average_scores = df.mean().values"
   ]
  },
  {
   "cell_type": "code",
   "execution_count": 56,
   "id": "2dbcb4c5",
   "metadata": {},
   "outputs": [
    {
     "name": "stdout",
     "output_type": "stream",
     "text": [
      "Average Precision Rouge-1:  0.16926951439\n",
      "Average Recall Rouge-1:  0.65884567906\n",
      "Average F1 Rouge-1:  0.26133767625000004\n",
      "\n",
      "Average Precision Rouge-2:  0.058481984349999995\n",
      "Average Recall Rouge-2:  0.22766696063999997\n",
      "Average F1 Rouge-2:  0.09028843207\n",
      "\n",
      "Average Precision Rouge-3:  0.0220144051\n",
      "Average Recall Rouge-3:  0.08501450929000001\n",
      "Average F1 Rouge-3:  0.03392477762\n"
     ]
    }
   ],
   "source": [
    "print(\"Average Precision Rouge-1: \", average_scores[0])\n",
    "print(\"Average Recall Rouge-1: \", average_scores[1])\n",
    "print(\"Average F1 Rouge-1: \", average_scores[2])\n",
    "print()\n",
    "print(\"Average Precision Rouge-2: \", average_scores[3])\n",
    "print(\"Average Recall Rouge-2: \", average_scores[4])\n",
    "print(\"Average F1 Rouge-2: \", average_scores[5])\n",
    "print()\n",
    "print(\"Average Precision Rouge-3: \", average_scores[6])\n",
    "print(\"Average Recall Rouge-3: \", average_scores[7])\n",
    "print(\"Average F1 Rouge-3: \", average_scores[8])"
   ]
  },
  {
   "cell_type": "code",
   "execution_count": null,
   "id": "a6474c16",
   "metadata": {},
   "outputs": [],
   "source": []
  },
  {
   "cell_type": "code",
   "execution_count": null,
   "id": "0841b637",
   "metadata": {},
   "outputs": [],
   "source": []
  }
 ],
 "metadata": {
  "kernelspec": {
   "display_name": "Python 3 (ipykernel)",
   "language": "python",
   "name": "python3"
  },
  "language_info": {
   "codemirror_mode": {
    "name": "ipython",
    "version": 3
   },
   "file_extension": ".py",
   "mimetype": "text/x-python",
   "name": "python",
   "nbconvert_exporter": "python",
   "pygments_lexer": "ipython3",
   "version": "3.11.6"
  }
 },
 "nbformat": 4,
 "nbformat_minor": 5
}
