{
 "cells": [
  {
   "cell_type": "code",
   "execution_count": 5,
   "metadata": {},
   "outputs": [
    {
     "data": {
      "text/html": [
       "<div>\n",
       "<style scoped>\n",
       "    .dataframe tbody tr th:only-of-type {\n",
       "        vertical-align: middle;\n",
       "    }\n",
       "\n",
       "    .dataframe tbody tr th {\n",
       "        vertical-align: top;\n",
       "    }\n",
       "\n",
       "    .dataframe thead th {\n",
       "        text-align: right;\n",
       "    }\n",
       "</style>\n",
       "<table border=\"1\" class=\"dataframe\">\n",
       "  <thead>\n",
       "    <tr style=\"text-align: right;\">\n",
       "      <th></th>\n",
       "      <th>article_id</th>\n",
       "      <th>article_text</th>\n",
       "      <th>abstract_text</th>\n",
       "      <th>labels</th>\n",
       "      <th>section_names</th>\n",
       "      <th>sections</th>\n",
       "    </tr>\n",
       "  </thead>\n",
       "  <tbody>\n",
       "    <tr>\n",
       "      <th>0</th>\n",
       "      <td>PMC5075302</td>\n",
       "      <td>[anxiety affects quality of life in those livi...</td>\n",
       "      <td>[&lt;S&gt; research on the implications of anxiety i...</td>\n",
       "      <td>NaN</td>\n",
       "      <td>[1. Introduction, 2. Methods, 3. Results, 4. D...</td>\n",
       "      <td>[[anxiety affects quality of life in those liv...</td>\n",
       "    </tr>\n",
       "    <tr>\n",
       "      <th>1</th>\n",
       "      <td>PMC3309138</td>\n",
       "      <td>[small non - coding rnas are transcribed into ...</td>\n",
       "      <td>[&lt;S&gt; small non - coding rnas include sirna , m...</td>\n",
       "      <td>NaN</td>\n",
       "      <td>[Introduction, Aberrant Expression of miRNA in...</td>\n",
       "      <td>[[small non - coding rnas are transcribed into...</td>\n",
       "    </tr>\n",
       "    <tr>\n",
       "      <th>2</th>\n",
       "      <td>PMC4086000</td>\n",
       "      <td>[ohss is a serious complication of ovulation i...</td>\n",
       "      <td>[&lt;S&gt; objective : to evaluate the efficacy and ...</td>\n",
       "      <td>NaN</td>\n",
       "      <td>[Introduction, Materials and Methods, Results,...</td>\n",
       "      <td>[[ohss is a serious complication of ovulation ...</td>\n",
       "    </tr>\n",
       "    <tr>\n",
       "      <th>3</th>\n",
       "      <td>PMC3603086</td>\n",
       "      <td>[congenital adrenal hyperplasia ( cah ) refers...</td>\n",
       "      <td>[&lt;S&gt; congenital adrenal hyperplasia is a group...</td>\n",
       "      <td>NaN</td>\n",
       "      <td>[I, M, R, D]</td>\n",
       "      <td>[[congenital adrenal hyperplasia ( cah ) refer...</td>\n",
       "    </tr>\n",
       "    <tr>\n",
       "      <th>4</th>\n",
       "      <td>PMC4414990</td>\n",
       "      <td>[type 1 diabetes ( t1d ) results from the dest...</td>\n",
       "      <td>[&lt;S&gt; objective(s):pentoxifylline is an immunom...</td>\n",
       "      <td>NaN</td>\n",
       "      <td>[Introduction, Materials and Methods, Drug and...</td>\n",
       "      <td>[[type 1 diabetes ( t1d ) results from the des...</td>\n",
       "    </tr>\n",
       "  </tbody>\n",
       "</table>\n",
       "</div>"
      ],
      "text/plain": [
       "   article_id                                       article_text   \n",
       "0  PMC5075302  [anxiety affects quality of life in those livi...  \\\n",
       "1  PMC3309138  [small non - coding rnas are transcribed into ...   \n",
       "2  PMC4086000  [ohss is a serious complication of ovulation i...   \n",
       "3  PMC3603086  [congenital adrenal hyperplasia ( cah ) refers...   \n",
       "4  PMC4414990  [type 1 diabetes ( t1d ) results from the dest...   \n",
       "\n",
       "                                       abstract_text  labels   \n",
       "0  [<S> research on the implications of anxiety i...     NaN  \\\n",
       "1  [<S> small non - coding rnas include sirna , m...     NaN   \n",
       "2  [<S> objective : to evaluate the efficacy and ...     NaN   \n",
       "3  [<S> congenital adrenal hyperplasia is a group...     NaN   \n",
       "4  [<S> objective(s):pentoxifylline is an immunom...     NaN   \n",
       "\n",
       "                                       section_names   \n",
       "0  [1. Introduction, 2. Methods, 3. Results, 4. D...  \\\n",
       "1  [Introduction, Aberrant Expression of miRNA in...   \n",
       "2  [Introduction, Materials and Methods, Results,...   \n",
       "3                                       [I, M, R, D]   \n",
       "4  [Introduction, Materials and Methods, Drug and...   \n",
       "\n",
       "                                            sections  \n",
       "0  [[anxiety affects quality of life in those liv...  \n",
       "1  [[small non - coding rnas are transcribed into...  \n",
       "2  [[ohss is a serious complication of ovulation ...  \n",
       "3  [[congenital adrenal hyperplasia ( cah ) refer...  \n",
       "4  [[type 1 diabetes ( t1d ) results from the des...  "
      ]
     },
     "execution_count": 5,
     "metadata": {},
     "output_type": "execute_result"
    }
   ],
   "source": [
    "import importlib\n",
    "import DataLoader as DL\n",
    "importlib.reload(DL)\n",
    "import os\n",
    "\n",
    "# load the dataset\n",
    "dataLoader = DL.DataLoader(datasetName='pubmed')\n",
    "df_test = dataLoader.getData('./', split='test')\n",
    "df_test.head()"
   ]
  },
  {
   "cell_type": "code",
   "execution_count": 2,
   "metadata": {},
   "outputs": [],
   "source": [
    "# df_train = dataLoader.getData('./', split='train')\n",
    "# df_train.head()"
   ]
  },
  {
   "cell_type": "code",
   "execution_count": 3,
   "metadata": {},
   "outputs": [],
   "source": [
    "# df_val = dataLoader.getData('./', split='val')\n",
    "# df_val.head()"
   ]
  },
  {
   "cell_type": "code",
   "execution_count": 4,
   "metadata": {},
   "outputs": [
    {
     "data": {
      "text/plain": [
       "['<S> the short - term periodicities of the daily sunspot area fluctuations from august 1923 to october 1933 are discussed . for these data </S>',\n",
       " '<S> the correlative analysis indicates negative correlation for the periodicity of about @xmath0 days , but the power spectrum analysis indicates a statistically significant peak in this time interval . </S>',\n",
       " '<S> a new method of the diagnosis of an echo - effect in spectrum is proposed and it is stated that the 155-day periodicity is a harmonic of the periodicities from the interval of @xmath1 $ ] days .    the autocorrelation functions for the daily sunspot area fluctuations and for the fluctuations of the one rotation time interval in the northern hemisphere , separately for the whole solar cycle 16 and for the maximum activity period of this cycle do not show differences , especially in the interval of @xmath2 $ ] days . </S>',\n",
       " '<S> it proves against the thesis of the existence of strong positive fluctuations of the about @xmath0-day interval in the maximum activity period of the solar cycle 16 in the northern hemisphere . </S>',\n",
       " '<S> however , a similar analysis for data from the southern hemisphere indicates that there is the periodicity of about @xmath0 days in sunspot area data in the maximum activity period of the cycle 16 only . </S>']"
      ]
     },
     "execution_count": 4,
     "metadata": {},
     "output_type": "execute_result"
    }
   ],
   "source": [
    "df_test.loc[0, 'abstract_text']"
   ]
  }
 ],
 "metadata": {
  "kernelspec": {
   "display_name": "Python 3",
   "language": "python",
   "name": "python3"
  },
  "language_info": {
   "codemirror_mode": {
    "name": "ipython",
    "version": 3
   },
   "file_extension": ".py",
   "mimetype": "text/x-python",
   "name": "python",
   "nbconvert_exporter": "python",
   "pygments_lexer": "ipython3",
   "version": "3.11.6"
  }
 },
 "nbformat": 4,
 "nbformat_minor": 2
}
